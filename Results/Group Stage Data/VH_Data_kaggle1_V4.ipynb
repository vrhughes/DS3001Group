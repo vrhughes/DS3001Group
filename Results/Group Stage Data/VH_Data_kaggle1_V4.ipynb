{
  "nbformat": 4,
  "nbformat_minor": 0,
  "metadata": {
    "colab": {
      "provenance": [],
      "include_colab_link": true
    },
    "kernelspec": {
      "name": "python3",
      "display_name": "Python 3"
    },
    "language_info": {
      "name": "python"
    }
  },
  "cells": [
    {
      "cell_type": "markdown",
      "metadata": {
        "id": "view-in-github",
        "colab_type": "text"
      },
      "source": [
        "<a href=\"https://colab.research.google.com/github/vrhughes/DS3001Group/blob/main/Results/Group%20Stage%20Data/VH_Data_kaggle1_V4.ipynb\" target=\"_parent\"><img src=\"https://colab.research.google.com/assets/colab-badge.svg\" alt=\"Open In Colab\"/></a>"
      ]
    },
    {
      "cell_type": "code",
      "execution_count": 104,
      "metadata": {
        "id": "7n2tyx43m1sT",
        "colab": {
          "base_uri": "https://localhost:8080/"
        },
        "outputId": "e1d9f038-95e4-4f6a-fba2-15e9f7960a3f"
      },
      "outputs": [
        {
          "output_type": "stream",
          "name": "stdout",
          "text": [
            "fatal: destination path 'DS3001Group' already exists and is not an empty directory.\n"
          ]
        }
      ],
      "source": [
        "# Cloning the data over from Github\n",
        "! git clone https://github.com/vrhughes/DS3001Group"
      ]
    },
    {
      "cell_type": "code",
      "source": [
        "# Importing relevant packages\n",
        "import pandas as pd\n",
        "import numpy as np\n",
        "import matplotlib.pyplot as plt\n",
        "import seaborn as sns"
      ],
      "metadata": {
        "id": "lx-Ao88inhNB"
      },
      "execution_count": 106,
      "outputs": []
    },
    {
      "cell_type": "code",
      "source": [
        "# Saving all of the group AND finals data to a dataframe variable\n",
        "data = pd.read_csv('https://raw.githubusercontent.com/vrhughes/DS3001Group/main/Data/kaggle1.csv')\n",
        "\n",
        "# Taking an initial look at the data\n",
        "#display(data)\n",
        "\n",
        "# Removing variables that are superfluous and/or unrelated to match performance\n",
        "data = data.drop(['date', 'hour', 'left channel team1', 'left channel team2', 'left inside channel team1', 'left inside channel team2', 'central channel team1', 'central channel team2', 'right inside channel team1', 'right inside channel team2', 'right channel team1', 'right channel team2', 'own goals team1', 'own goals team2', 'possession in contest'], axis=1)\n",
        "data = data.drop(['total offers to receive team1', 'total offers to receive team2', 'inbehind offers to receive team1', 'inbehind offers to receive team2', 'inbetween offers to receive team1', 'inbetween offers to receive team2', 'infront offers to receive team1', 'infront offers to receive team2', 'receptions between midfield and defensive lines team1', 'receptions between midfield and defensive lines team2', 'attempted line breaks team1', 'attempted line breaks team2', 'completed line breaksteam1', 'completed line breaks team2', 'attempted defensive line breaks team1', 'attempted defensive line breaks team2', 'switches of play completed team1', 'switches of play completed team2'], axis=1)\n",
        "\n",
        "# Adjusting the names of some incorrect data\n",
        "data = data.rename(columns={'attempts inside the penalty area  team2': 'attempts inside the penalty area team2'})\n",
        "data = data.rename(columns={'attempts outside the penalty area  team1': 'attempts outside the penalty area team1'})\n",
        "data = data.rename(columns={'attempts outside the penalty area  team2': 'attempts outside the penalty area team2'})\n",
        "data = data.rename(columns={'completed defensive line breaksteam1': 'completed defensive line breaks team1'})\n",
        "\n",
        "# Because our only goal with this data is to look at group stage results, we'll remove finals data\n",
        "group_stage_data = data[data['category'].str.contains('Group')].copy()\n",
        "# Removed about 16 rows of finals data\n",
        "\n",
        "# Adding another column to the group_stage_data that's true if team1 has more goals and false if team2 has more goals:\n",
        "group_stage_data['team1 won'] = group_stage_data['number of goals team1'] > group_stage_data['number of goals team2']\n",
        "#group_stage_data.head()"
      ],
      "metadata": {
        "id": "BKRFVVBsn3LG"
      },
      "execution_count": 107,
      "outputs": []
    },
    {
      "cell_type": "markdown",
      "source": [
        "Now that we've removed most of the irrelevant data we have a clearer view and can ask some questions.\n",
        "\n"
      ],
      "metadata": {
        "id": "7gDiizXA4rd-"
      }
    },
    {
      "cell_type": "code",
      "source": [
        "####################################################################################################"
      ],
      "metadata": {
        "id": "Ro-Ciuj8mr5s"
      },
      "execution_count": 108,
      "outputs": []
    },
    {
      "cell_type": "markdown",
      "source": [
        "Given how limited our data is, it will be difficult to run a comprehensive regession on the outcome of the finals matches.\n",
        "\n",
        "We will run a logit regression on the deltas between the variables corresponding to team1 and team2 that can then be used to predict individual match outcomes."
      ],
      "metadata": {
        "id": "B-HSe3UGbu27"
      }
    },
    {
      "cell_type": "code",
      "source": [
        "# Multi-nomial logit\n",
        "# Use Sci-Kit to run\n",
        "\n",
        "# Use Sci-Kit to run regression on did home team win times deltas between different variables"
      ],
      "metadata": {
        "id": "87OKSL-ITpZ-"
      },
      "execution_count": 109,
      "outputs": []
    },
    {
      "cell_type": "code",
      "source": [
        "# Creating a new dataframe that represents the differences between team1 and team2 for each variable\n",
        "deltas = group_stage_data[['team1 won']].copy()\n",
        "\n",
        "deltas['possession'] = group_stage_data['possession team1'].str.rstrip('%').astype('float') / 100.0 - group_stage_data['possession team2'].str.rstrip('%').astype('float') / 100.0\n",
        "deltas['total attempts'] = group_stage_data['total attempts team1'] - group_stage_data['total attempts team2']\n",
        "deltas['conceded'] = group_stage_data['conceded team1'] - group_stage_data['conceded team2']\n",
        "deltas['goal inside the penalty area'] = group_stage_data['goal inside the penalty area team1'] - group_stage_data['goal inside the penalty area team2']\n",
        "deltas['goal outside the penalty area'] = group_stage_data['goal outside the penalty area team1'] - group_stage_data['goal outside the penalty area team2']\n",
        "deltas['assists'] = group_stage_data['assists team1'] - group_stage_data['assists team2']\n",
        "deltas['on target attempts'] = group_stage_data['on target attempts team1'] - group_stage_data['on target attempts team2']\n",
        "deltas['off target attempts'] = group_stage_data['off target attempts team1'] - group_stage_data['off target attempts team2']\n",
        "deltas['attempts inside the penalty area'] = group_stage_data['attempts inside the penalty area team1'] - group_stage_data['attempts inside the penalty area team2']\n",
        "deltas['attempts outside the penalty area'] = group_stage_data['attempts outside the penalty area team1'] - group_stage_data['attempts outside the penalty area team2']\n",
        "deltas['completed defensive line breaks'] = group_stage_data['completed defensive line breaks team1'] - group_stage_data['completed defensive line breaks team2']\n",
        "deltas['yellow cards'] = group_stage_data['yellow cards team1'] - group_stage_data['yellow cards team2']\n",
        "deltas['red cards'] = group_stage_data['red cards team1'] - group_stage_data['red cards team2']\n",
        "deltas['fouls against'] = group_stage_data['fouls against team1'] - group_stage_data['fouls against team2']\n",
        "deltas['offsides'] = group_stage_data['offsides team1'] - group_stage_data['offsides team2']\n",
        "deltas['passes'] = group_stage_data['passes team1'] - group_stage_data['passes team2']\n",
        "deltas['passes completed'] = group_stage_data['passes completed team1'] - group_stage_data['passes completed team2']\n",
        "deltas['crosses'] = group_stage_data['crosses team1'] - group_stage_data['crosses team2']\n",
        "deltas['crosses completed'] = group_stage_data['crosses completed team1'] - group_stage_data['crosses completed team2']\n",
        "deltas['corners'] = group_stage_data['corners team1'] - group_stage_data['corners team2']\n",
        "deltas['free kicks'] = group_stage_data['free kicks team1'] - group_stage_data['free kicks team2']\n",
        "deltas['penalties scored'] = group_stage_data['penalties scored team1'] - group_stage_data['penalties scored team2']\n",
        "deltas['goal preventions'] = group_stage_data['goal preventions team1'] - group_stage_data['goal preventions team2']\n",
        "deltas['forced turnovers'] = group_stage_data['forced turnovers team1'] - group_stage_data['forced turnovers team2']\n",
        "deltas['defensive pressures applied'] = group_stage_data['defensive pressures applied team1'] - group_stage_data['defensive pressures applied team2']\n",
        "\n",
        "#deltas.head()"
      ],
      "metadata": {
        "id": "Oh94GYj58wRO",
        "collapsed": true
      },
      "execution_count": 111,
      "outputs": []
    },
    {
      "cell_type": "code",
      "source": [
        "# Creating arrays for each team that represent the averages of all of their performances from individual group stage matches:\n",
        "team_data = group_stage_data.copy()\n",
        "\n",
        "# Cleaning up the team_data DF:\n",
        "team_data = team_data.drop(['category'], axis=1)\n",
        "team_data = team_data.drop(['team1 won'], axis=1)\n",
        "team_data = team_data.drop(['number of goals team1'], axis=1)\n",
        "team_data = team_data.drop(['number of goals team2'], axis=1)\n",
        "team_data['possession team1'] = team_data['possession team1'].str.rstrip('%').astype('float') / 100.0\n",
        "team_data['possession team2'] = team_data['possession team2'].str.rstrip('%').astype('float') / 100.0\n",
        "\n",
        "# Splitting team_data into two dataframes, one for team1 and one for team2\n",
        "team1_data = team_data.iloc[:, ::2]\n",
        "team2_data = team_data.iloc[:, [i for i in range(team_data.shape[1]) if i % 2 != 0]]\n",
        "# For the two new indicies, I'll remove the term \"team1\" or \"team2\" from the column headers for every header but the one at index zero\n",
        "team1_data.columns = [team1_data.columns[0]] + [col.replace('team1', '') for col in team1_data.columns[1:]]\n",
        "team2_data.columns = [team2_data.columns[0]] + [col.replace('team2', '') for col in team2_data.columns[1:]]\n",
        "# Changing the names of the first column in both dataframes\n",
        "team1_data = team1_data.rename(columns={team1_data.columns[0]: 'team'})\n",
        "team2_data = team2_data.rename(columns={team2_data.columns[0]: 'team'})\n",
        "# Recombining the team1_data and team2_data DFs back into team_data\n",
        "team_data = pd.concat([team1_data, team2_data], axis=0)\n",
        "\n",
        "# Generating dataframes for each team that takes into account their averages from each match\n",
        "team_averages = team_data.groupby('team').mean()"
      ],
      "metadata": {
        "colab": {
          "base_uri": "https://localhost:8080/"
        },
        "id": "6AWrXHhUe7xr",
        "outputId": "14d2d7d9-a740-446a-eb10-e0201522bb51"
      },
      "execution_count": 115,
      "outputs": [
        {
          "output_type": "execute_result",
          "data": {
            "text/plain": [
              "(48, 56)"
            ]
          },
          "metadata": {},
          "execution_count": 115
        }
      ]
    },
    {
      "cell_type": "code",
      "source": [
        "from sklearn.model_selection import train_test_split\n",
        "from sklearn.linear_model import LogisticRegression\n",
        "from sklearn.metrics import accuracy_score\n",
        "\n",
        "# Splitting the data into X, our predictor variables, and Y, what we're trying to predict\n",
        "# The X dataframe is the deltas dataframe without the first column\n",
        "X = deltas.iloc[:, 1:]\n",
        "# The Y dataframe is the first column of the deltas dataframe\n",
        "Y = deltas.iloc[:, 0]\n",
        "\n",
        "# One-hot encoding the team1 and team2 columns of the X data:\n",
        "#X = pd.get_dummies(X, columns=['team1', 'team2'])\n",
        "\n",
        "# Train, test, splitting the data\n",
        "X_train, X_test, Y_train, Y_test = train_test_split(X, Y, test_size=0.2, random_state=0)"
      ],
      "metadata": {
        "id": "F2--o-iGNJjq"
      },
      "execution_count": 94,
      "outputs": []
    },
    {
      "cell_type": "code",
      "source": [
        "# Making an instance of the linear regression model\n",
        "log_reg = LogisticRegression(max_iter=10000)\n",
        "\n",
        "# Fitting the model to the data\n",
        "log_reg.fit(X_train, Y_train)\n",
        "\n",
        "# Seeing how the model performs on the test data\n",
        "print('Accuracy of logistic regression classifier on test set: {:.2f}'.format(log_reg.score(X_test, Y_test)))"
      ],
      "metadata": {
        "id": "SUcV0lsRP55s",
        "outputId": "e900b173-7afc-44de-ba51-8e6e6fdb4f6c",
        "colab": {
          "base_uri": "https://localhost:8080/"
        }
      },
      "execution_count": 95,
      "outputs": [
        {
          "output_type": "stream",
          "name": "stdout",
          "text": [
            "Accuracy of logistic regression classifier on test set: 0.70\n"
          ]
        }
      ]
    },
    {
      "cell_type": "code",
      "source": [
        "# Target leakage: Regressing features on an outcome but the outcome is highly correlated on the features\n",
        "\n",
        "# Don't necessarily need team names because the rest of the data accounts for them\n",
        "# Should run it with and without team names\n",
        "\n",
        "# for every potential pair-wise matchup, evaluate vector for two teams\n",
        "# put into regression using predict.proba() and it will give a matchup for the two teams"
      ],
      "metadata": {
        "colab": {
          "base_uri": "https://localhost:8080/",
          "height": 108
        },
        "id": "nq1ITT4XbKI_",
        "outputId": "02b384fc-2376-4e48-f03a-69e3246b9550"
      },
      "execution_count": 26,
      "outputs": [
        {
          "output_type": "error",
          "ename": "SyntaxError",
          "evalue": "invalid syntax (<ipython-input-26-8019d0a31443>, line 4)",
          "traceback": [
            "\u001b[0;36m  File \u001b[0;32m\"<ipython-input-26-8019d0a31443>\"\u001b[0;36m, line \u001b[0;32m4\u001b[0m\n\u001b[0;31m    Saudi_Arabia =\u001b[0m\n\u001b[0m                   ^\u001b[0m\n\u001b[0;31mSyntaxError\u001b[0m\u001b[0;31m:\u001b[0m invalid syntax\n"
          ]
        }
      ]
    }
  ]
}