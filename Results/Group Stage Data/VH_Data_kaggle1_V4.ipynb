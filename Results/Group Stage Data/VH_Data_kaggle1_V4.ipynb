{
  "nbformat": 4,
  "nbformat_minor": 0,
  "metadata": {
    "colab": {
      "provenance": [],
      "include_colab_link": true
    },
    "kernelspec": {
      "name": "python3",
      "display_name": "Python 3"
    },
    "language_info": {
      "name": "python"
    }
  },
  "cells": [
    {
      "cell_type": "markdown",
      "metadata": {
        "id": "view-in-github",
        "colab_type": "text"
      },
      "source": [
        "<a href=\"https://colab.research.google.com/github/vrhughes/DS3001Group/blob/main/Results/Group%20Stage%20Data/VH_Data_kaggle1_V4.ipynb\" target=\"_parent\"><img src=\"https://colab.research.google.com/assets/colab-badge.svg\" alt=\"Open In Colab\"/></a>"
      ]
    },
    {
      "cell_type": "code",
      "execution_count": 104,
      "metadata": {
        "id": "7n2tyx43m1sT",
        "colab": {
          "base_uri": "https://localhost:8080/"
        },
        "outputId": "e1d9f038-95e4-4f6a-fba2-15e9f7960a3f"
      },
      "outputs": [
        {
          "output_type": "stream",
          "name": "stdout",
          "text": [
            "fatal: destination path 'DS3001Group' already exists and is not an empty directory.\n"
          ]
        }
      ],
      "source": [
        "# Cloning the data over from Github\n",
        "! git clone https://github.com/vrhughes/DS3001Group"
      ]
    },
    {
      "cell_type": "code",
      "source": [
        "# Importing relevant packages\n",
        "import pandas as pd\n",
        "import numpy as np\n",
        "import matplotlib.pyplot as plt\n",
        "import seaborn as sns"
      ],
      "metadata": {
        "id": "lx-Ao88inhNB"
      },
      "execution_count": 106,
      "outputs": []
    },
    {
      "cell_type": "code",
      "source": [
        "# Saving all of the group AND finals data to a dataframe variable\n",
        "data = pd.read_csv('https://raw.githubusercontent.com/vrhughes/DS3001Group/main/Data/kaggle1.csv')\n",
        "\n",
        "# Taking an initial look at the data\n",
        "#display(data)\n",
        "\n",
        "# Removing variables that are superfluous and/or unrelated to match performance\n",
        "data = data.drop(['date', 'hour', 'left channel team1', 'left channel team2', 'left inside channel team1', 'left inside channel team2', 'central channel team1', 'central channel team2', 'right inside channel team1', 'right inside channel team2', 'right channel team1', 'right channel team2', 'own goals team1', 'own goals team2', 'possession in contest'], axis=1)\n",
        "data = data.drop(['total offers to receive team1', 'total offers to receive team2', 'inbehind offers to receive team1', 'inbehind offers to receive team2', 'inbetween offers to receive team1', 'inbetween offers to receive team2', 'infront offers to receive team1', 'infront offers to receive team2', 'receptions between midfield and defensive lines team1', 'receptions between midfield and defensive lines team2', 'attempted line breaks team1', 'attempted line breaks team2', 'completed line breaksteam1', 'completed line breaks team2', 'attempted defensive line breaks team1', 'attempted defensive line breaks team2', 'switches of play completed team1', 'switches of play completed team2'], axis=1)\n",
        "\n",
        "# Adjusting the names of some incorrect data\n",
        "data = data.rename(columns={'attempts inside the penalty area  team2': 'attempts inside the penalty area team2'})\n",
        "data = data.rename(columns={'attempts outside the penalty area  team1': 'attempts outside the penalty area team1'})\n",
        "data = data.rename(columns={'attempts outside the penalty area  team2': 'attempts outside the penalty area team2'})\n",
        "data = data.rename(columns={'completed defensive line breaksteam1': 'completed defensive line breaks team1'})\n",
        "\n",
        "# Because our only goal with this data is to look at group stage results, we'll remove finals data\n",
        "group_stage_data = data[data['category'].str.contains('Group')].copy()\n",
        "# Removed about 16 rows of finals data\n",
        "\n",
        "# Adding another column to the group_stage_data that's true if team1 has more goals and false if team2 has more goals:\n",
        "group_stage_data['team1 won'] = group_stage_data['number of goals team1'] > group_stage_data['number of goals team2']\n",
        "#group_stage_data.head()"
      ],
      "metadata": {
        "id": "BKRFVVBsn3LG"
      },
      "execution_count": 107,
      "outputs": []
    },
    {
      "cell_type": "markdown",
      "source": [
        "Now that we've removed most of the irrelevant data we have a clearer view and can ask some questions.\n",
        "\n"
      ],
      "metadata": {
        "id": "7gDiizXA4rd-"
      }
    },
    {
      "cell_type": "code",
      "source": [
        "####################################################################################################"
      ],
      "metadata": {
        "id": "Ro-Ciuj8mr5s"
      },
      "execution_count": 108,
      "outputs": []
    },
    {
      "cell_type": "markdown",
      "source": [
        "Given how limited our data is, it will be difficult to run a comprehensive regession on the outcome of the finals matches.\n",
        "\n",
        "We will run a logit regression on the deltas between the variables corresponding to team1 and team2 that can then be used to predict individual match outcomes."
      ],
      "metadata": {
        "id": "B-HSe3UGbu27"
      }
    },
    {
      "cell_type": "code",
      "source": [
        "# Multi-nomial logit\n",
        "# Use Sci-Kit to run\n",
        "\n",
        "# Use Sci-Kit to run regression on did home team win times deltas between different variables"
      ],
      "metadata": {
        "id": "87OKSL-ITpZ-"
      },
      "execution_count": 109,
      "outputs": []
    },
    {
      "cell_type": "code",
      "source": [
        "# Creating a new dataframe that represents the differences between team1 and team2 for each variable\n",
        "deltas = group_stage_data[['team1 won']].copy()\n",
        "\n",
        "deltas['possession'] = group_stage_data['possession team1'].str.rstrip('%').astype('float') / 100.0 - group_stage_data['possession team2'].str.rstrip('%').astype('float') / 100.0\n",
        "deltas['total attempts'] = group_stage_data['total attempts team1'] - group_stage_data['total attempts team2']\n",
        "deltas['conceded'] = group_stage_data['conceded team1'] - group_stage_data['conceded team2']\n",
        "deltas['goal inside the penalty area'] = group_stage_data['goal inside the penalty area team1'] - group_stage_data['goal inside the penalty area team2']\n",
        "deltas['goal outside the penalty area'] = group_stage_data['goal outside the penalty area team1'] - group_stage_data['goal outside the penalty area team2']\n",
        "deltas['assists'] = group_stage_data['assists team1'] - group_stage_data['assists team2']\n",
        "deltas['on target attempts'] = group_stage_data['on target attempts team1'] - group_stage_data['on target attempts team2']\n",
        "deltas['off target attempts'] = group_stage_data['off target attempts team1'] - group_stage_data['off target attempts team2']\n",
        "deltas['attempts inside the penalty area'] = group_stage_data['attempts inside the penalty area team1'] - group_stage_data['attempts inside the penalty area team2']\n",
        "deltas['attempts outside the penalty area'] = group_stage_data['attempts outside the penalty area team1'] - group_stage_data['attempts outside the penalty area team2']\n",
        "deltas['completed defensive line breaks'] = group_stage_data['completed defensive line breaks team1'] - group_stage_data['completed defensive line breaks team2']\n",
        "deltas['yellow cards'] = group_stage_data['yellow cards team1'] - group_stage_data['yellow cards team2']\n",
        "deltas['red cards'] = group_stage_data['red cards team1'] - group_stage_data['red cards team2']\n",
        "deltas['fouls against'] = group_stage_data['fouls against team1'] - group_stage_data['fouls against team2']\n",
        "deltas['offsides'] = group_stage_data['offsides team1'] - group_stage_data['offsides team2']\n",
        "deltas['passes'] = group_stage_data['passes team1'] - group_stage_data['passes team2']\n",
        "deltas['passes completed'] = group_stage_data['passes completed team1'] - group_stage_data['passes completed team2']\n",
        "deltas['crosses'] = group_stage_data['crosses team1'] - group_stage_data['crosses team2']\n",
        "deltas['crosses completed'] = group_stage_data['crosses completed team1'] - group_stage_data['crosses completed team2']\n",
        "deltas['corners'] = group_stage_data['corners team1'] - group_stage_data['corners team2']\n",
        "deltas['free kicks'] = group_stage_data['free kicks team1'] - group_stage_data['free kicks team2']\n",
        "deltas['penalties scored'] = group_stage_data['penalties scored team1'] - group_stage_data['penalties scored team2']\n",
        "deltas['goal preventions'] = group_stage_data['goal preventions team1'] - group_stage_data['goal preventions team2']\n",
        "deltas['forced turnovers'] = group_stage_data['forced turnovers team1'] - group_stage_data['forced turnovers team2']\n",
        "deltas['defensive pressures applied'] = group_stage_data['defensive pressures applied team1'] - group_stage_data['defensive pressures applied team2']\n",
        "\n",
        "#deltas.head()"
      ],
      "metadata": {
        "id": "Oh94GYj58wRO",
        "collapsed": true
      },
      "execution_count": 111,
      "outputs": []
    },
    {
      "cell_type": "code",
      "source": [
        "# Creating arrays for each team that represent the averages of all of their performances from individual group stage matches:\n",
        "team_data = group_stage_data.copy()\n",
        "\n",
        "# Cleaning up the team_data DF:\n",
        "team_data = team_data.drop(['category'], axis=1)\n",
        "team_data = team_data.drop(['team1 won'], axis=1)\n",
        "team_data = team_data.drop(['number of goals team1'], axis=1)\n",
        "team_data = team_data.drop(['number of goals team2'], axis=1)\n",
        "team_data['possession team1'] = team_data['possession team1'].str.rstrip('%').astype('float') / 100.0\n",
        "team_data['possession team2'] = team_data['possession team2'].str.rstrip('%').astype('float') / 100.0\n",
        "\n",
        "# Splitting team_data into two dataframes, one for team1 and one for team2\n",
        "team1_data = team_data.iloc[:, ::2]\n",
        "team2_data = team_data.iloc[:, [i for i in range(team_data.shape[1]) if i % 2 != 0]]\n",
        "# For the two new indicies, I'll remove the term \"team1\" or \"team2\" from the column headers for every header but the one at index zero\n",
        "team1_data.columns = [team1_data.columns[0]] + [col.replace('team1', '') for col in team1_data.columns[1:]]\n",
        "team2_data.columns = [team2_data.columns[0]] + [col.replace('team2', '') for col in team2_data.columns[1:]]\n",
        "# Changing the names of the first column in both dataframes\n",
        "team1_data = team1_data.rename(columns={team1_data.columns[0]: 'team'})\n",
        "team2_data = team2_data.rename(columns={team2_data.columns[0]: 'team'})\n",
        "# Recombining the team1_data and team2_data DFs back into team_data\n",
        "team_data = pd.concat([team1_data, team2_data], axis=0)\n",
        "\n",
        "# Generating dataframes for each team that takes into account their averages from each match\n",
        "team_averages = team_data.groupby('team').mean()"
      ],
      "metadata": {
        "colab": {
          "base_uri": "https://localhost:8080/"
        },
        "id": "6AWrXHhUe7xr",
        "outputId": "14d2d7d9-a740-446a-eb10-e0201522bb51"
      },
      "execution_count": 115,
      "outputs": [
        {
          "output_type": "execute_result",
          "data": {
            "text/plain": [
              "(48, 56)"
            ]
          },
          "metadata": {},
          "execution_count": 115
        }
      ]
    },
    {
      "cell_type": "code",
      "source": [
        "from sklearn.model_selection import train_test_split\n",
        "from sklearn.linear_model import LogisticRegression\n",
        "from sklearn.metrics import accuracy_score\n",
        "\n",
        "# Splitting the data into X, our predictor variables, and Y, what we're trying to predict\n",
        "# The X dataframe is the deltas dataframe without the first column\n",
        "X = deltas.iloc[:, 1:]\n",
        "# The Y dataframe is the first column of the deltas dataframe\n",
        "Y = deltas.iloc[:, 0]\n",
        "\n",
        "# One-hot encoding the team1 and team2 columns of the X data:\n",
        "#X = pd.get_dummies(X, columns=['team1', 'team2'])\n",
        "\n",
        "# Train, test, splitting the data\n",
        "X_train, X_test, Y_train, Y_test = train_test_split(X, Y, test_size=0.2, random_state=0)"
      ],
      "metadata": {
        "id": "F2--o-iGNJjq"
      },
      "execution_count": 122,
      "outputs": []
    },
    {
      "cell_type": "code",
      "source": [
        "# Making an instance of the linear regression model\n",
        "log_reg = LogisticRegression(max_iter=10000)\n",
        "\n",
        "# Fitting the model to the data\n",
        "log_reg.fit(X, Y)\n",
        "\n",
        "# Seeing how the model performs on the test data\n",
        "print('Accuracy of logistic regression classifier on test set: {:.2f}'.format(log_reg.score(X_test, Y_test)))"
      ],
      "metadata": {
        "id": "SUcV0lsRP55s",
        "outputId": "31047792-d753-4e7c-cd05-4d8459573d5a",
        "colab": {
          "base_uri": "https://localhost:8080/"
        }
      },
      "execution_count": 123,
      "outputs": [
        {
          "output_type": "stream",
          "name": "stdout",
          "text": [
            "Accuracy of logistic regression classifier on test set: 1.00\n"
          ]
        }
      ]
    },
    {
      "cell_type": "code",
      "source": [
        "# Target leakage: Regressing features on an outcome but the outcome is highly correlated on the features\n",
        "\n",
        "# Don't necessarily need team names because the rest of the data accounts for them\n",
        "# Should run it with and without team names\n",
        "\n",
        "# for every potential pair-wise matchup, evaluate vector for two teams\n",
        "# put into regression using predict.proba() and it will give a matchup for the two teams"
      ],
      "metadata": {
        "colab": {
          "base_uri": "https://localhost:8080/",
          "height": 108
        },
        "id": "nq1ITT4XbKI_",
        "outputId": "02b384fc-2376-4e48-f03a-69e3246b9550"
      },
      "execution_count": 26,
      "outputs": [
        {
          "output_type": "error",
          "ename": "SyntaxError",
          "evalue": "invalid syntax (<ipython-input-26-8019d0a31443>, line 4)",
          "traceback": [
            "\u001b[0;36m  File \u001b[0;32m\"<ipython-input-26-8019d0a31443>\"\u001b[0;36m, line \u001b[0;32m4\u001b[0m\n\u001b[0;31m    Saudi_Arabia =\u001b[0m\n\u001b[0m                   ^\u001b[0m\n\u001b[0;31mSyntaxError\u001b[0m\u001b[0;31m:\u001b[0m invalid syntax\n"
          ]
        }
      ]
    },
    {
      "cell_type": "code",
      "source": [
        "# Now I'll use the team_averages dataframe to simulate the performance of various teams using the logit regression I conducted earlier\n",
        "def create_matchup_data(team1, team2):\n",
        "       team1_stats = team_averages.loc[team1]\n",
        "       team2_stats = team_averages.loc[team2]\n",
        "       deltas = team1_stats - team2_stats\n",
        "       # Strip whitespace from column names to ensure consistency\n",
        "       deltas = deltas.rename(index=lambda x: x.strip())\n",
        "\n",
        "       return pd.DataFrame([deltas.values], columns=deltas.index)\n",
        "\n",
        "matchup_data = create_matchup_data('UNITED STATES', 'GERMANY')\n",
        "\n",
        "display(matchup_data)\n",
        "\n",
        "probabilities = log_reg.predict_proba(matchup_data)\n",
        "print(probabilities)"
      ],
      "metadata": {
        "id": "asAygvKWoijR",
        "outputId": "a68d9d17-be22-454f-f98c-7fb98343aaab",
        "colab": {
          "base_uri": "https://localhost:8080/",
          "height": 217
        }
      },
      "execution_count": 136,
      "outputs": [
        {
          "output_type": "display_data",
          "data": {
            "text/plain": [
              "   possession  total attempts  conceded  goal inside the penalty area  \\\n",
              "0   -0.073333           -13.0 -1.333333                     -1.333333   \n",
              "\n",
              "   goal outside the penalty area  assists  on target attempts  \\\n",
              "0                            0.0     -1.0           -5.333333   \n",
              "\n",
              "   off target attempts  attempts inside the penalty area  \\\n",
              "0                 -6.0                         -9.333333   \n",
              "\n",
              "   attempts outside the penalty area  ...      passes  passes completed  \\\n",
              "0                          -3.666667  ... -144.333333       -131.666667   \n",
              "\n",
              "    crosses  crosses completed   corners  free kicks  penalties scored  \\\n",
              "0 -3.333333          -4.666667 -2.666667        -1.0         -0.333333   \n",
              "\n",
              "   goal preventions  forced turnovers  defensive pressures applied  \n",
              "0              -2.0         -5.666667                    37.666667  \n",
              "\n",
              "[1 rows x 25 columns]"
            ],
            "text/html": [
              "\n",
              "  <div id=\"df-9c2de0e6-752b-4a9b-98a7-309b66dfbf91\" class=\"colab-df-container\">\n",
              "    <div>\n",
              "<style scoped>\n",
              "    .dataframe tbody tr th:only-of-type {\n",
              "        vertical-align: middle;\n",
              "    }\n",
              "\n",
              "    .dataframe tbody tr th {\n",
              "        vertical-align: top;\n",
              "    }\n",
              "\n",
              "    .dataframe thead th {\n",
              "        text-align: right;\n",
              "    }\n",
              "</style>\n",
              "<table border=\"1\" class=\"dataframe\">\n",
              "  <thead>\n",
              "    <tr style=\"text-align: right;\">\n",
              "      <th></th>\n",
              "      <th>possession</th>\n",
              "      <th>total attempts</th>\n",
              "      <th>conceded</th>\n",
              "      <th>goal inside the penalty area</th>\n",
              "      <th>goal outside the penalty area</th>\n",
              "      <th>assists</th>\n",
              "      <th>on target attempts</th>\n",
              "      <th>off target attempts</th>\n",
              "      <th>attempts inside the penalty area</th>\n",
              "      <th>attempts outside the penalty area</th>\n",
              "      <th>...</th>\n",
              "      <th>passes</th>\n",
              "      <th>passes completed</th>\n",
              "      <th>crosses</th>\n",
              "      <th>crosses completed</th>\n",
              "      <th>corners</th>\n",
              "      <th>free kicks</th>\n",
              "      <th>penalties scored</th>\n",
              "      <th>goal preventions</th>\n",
              "      <th>forced turnovers</th>\n",
              "      <th>defensive pressures applied</th>\n",
              "    </tr>\n",
              "  </thead>\n",
              "  <tbody>\n",
              "    <tr>\n",
              "      <th>0</th>\n",
              "      <td>-0.073333</td>\n",
              "      <td>-13.0</td>\n",
              "      <td>-1.333333</td>\n",
              "      <td>-1.333333</td>\n",
              "      <td>0.0</td>\n",
              "      <td>-1.0</td>\n",
              "      <td>-5.333333</td>\n",
              "      <td>-6.0</td>\n",
              "      <td>-9.333333</td>\n",
              "      <td>-3.666667</td>\n",
              "      <td>...</td>\n",
              "      <td>-144.333333</td>\n",
              "      <td>-131.666667</td>\n",
              "      <td>-3.333333</td>\n",
              "      <td>-4.666667</td>\n",
              "      <td>-2.666667</td>\n",
              "      <td>-1.0</td>\n",
              "      <td>-0.333333</td>\n",
              "      <td>-2.0</td>\n",
              "      <td>-5.666667</td>\n",
              "      <td>37.666667</td>\n",
              "    </tr>\n",
              "  </tbody>\n",
              "</table>\n",
              "<p>1 rows × 25 columns</p>\n",
              "</div>\n",
              "    <div class=\"colab-df-buttons\">\n",
              "\n",
              "  <div class=\"colab-df-container\">\n",
              "    <button class=\"colab-df-convert\" onclick=\"convertToInteractive('df-9c2de0e6-752b-4a9b-98a7-309b66dfbf91')\"\n",
              "            title=\"Convert this dataframe to an interactive table.\"\n",
              "            style=\"display:none;\">\n",
              "\n",
              "  <svg xmlns=\"http://www.w3.org/2000/svg\" height=\"24px\" viewBox=\"0 -960 960 960\">\n",
              "    <path d=\"M120-120v-720h720v720H120Zm60-500h600v-160H180v160Zm220 220h160v-160H400v160Zm0 220h160v-160H400v160ZM180-400h160v-160H180v160Zm440 0h160v-160H620v160ZM180-180h160v-160H180v160Zm440 0h160v-160H620v160Z\"/>\n",
              "  </svg>\n",
              "    </button>\n",
              "\n",
              "  <style>\n",
              "    .colab-df-container {\n",
              "      display:flex;\n",
              "      gap: 12px;\n",
              "    }\n",
              "\n",
              "    .colab-df-convert {\n",
              "      background-color: #E8F0FE;\n",
              "      border: none;\n",
              "      border-radius: 50%;\n",
              "      cursor: pointer;\n",
              "      display: none;\n",
              "      fill: #1967D2;\n",
              "      height: 32px;\n",
              "      padding: 0 0 0 0;\n",
              "      width: 32px;\n",
              "    }\n",
              "\n",
              "    .colab-df-convert:hover {\n",
              "      background-color: #E2EBFA;\n",
              "      box-shadow: 0px 1px 2px rgba(60, 64, 67, 0.3), 0px 1px 3px 1px rgba(60, 64, 67, 0.15);\n",
              "      fill: #174EA6;\n",
              "    }\n",
              "\n",
              "    .colab-df-buttons div {\n",
              "      margin-bottom: 4px;\n",
              "    }\n",
              "\n",
              "    [theme=dark] .colab-df-convert {\n",
              "      background-color: #3B4455;\n",
              "      fill: #D2E3FC;\n",
              "    }\n",
              "\n",
              "    [theme=dark] .colab-df-convert:hover {\n",
              "      background-color: #434B5C;\n",
              "      box-shadow: 0px 1px 3px 1px rgba(0, 0, 0, 0.15);\n",
              "      filter: drop-shadow(0px 1px 2px rgba(0, 0, 0, 0.3));\n",
              "      fill: #FFFFFF;\n",
              "    }\n",
              "  </style>\n",
              "\n",
              "    <script>\n",
              "      const buttonEl =\n",
              "        document.querySelector('#df-9c2de0e6-752b-4a9b-98a7-309b66dfbf91 button.colab-df-convert');\n",
              "      buttonEl.style.display =\n",
              "        google.colab.kernel.accessAllowed ? 'block' : 'none';\n",
              "\n",
              "      async function convertToInteractive(key) {\n",
              "        const element = document.querySelector('#df-9c2de0e6-752b-4a9b-98a7-309b66dfbf91');\n",
              "        const dataTable =\n",
              "          await google.colab.kernel.invokeFunction('convertToInteractive',\n",
              "                                                    [key], {});\n",
              "        if (!dataTable) return;\n",
              "\n",
              "        const docLinkHtml = 'Like what you see? Visit the ' +\n",
              "          '<a target=\"_blank\" href=https://colab.research.google.com/notebooks/data_table.ipynb>data table notebook</a>'\n",
              "          + ' to learn more about interactive tables.';\n",
              "        element.innerHTML = '';\n",
              "        dataTable['output_type'] = 'display_data';\n",
              "        await google.colab.output.renderOutput(dataTable, element);\n",
              "        const docLink = document.createElement('div');\n",
              "        docLink.innerHTML = docLinkHtml;\n",
              "        element.appendChild(docLink);\n",
              "      }\n",
              "    </script>\n",
              "  </div>\n",
              "\n",
              "\n",
              "  <div id=\"id_7f1064e6-0ba3-467c-8838-f4abcc95d95c\">\n",
              "    <style>\n",
              "      .colab-df-generate {\n",
              "        background-color: #E8F0FE;\n",
              "        border: none;\n",
              "        border-radius: 50%;\n",
              "        cursor: pointer;\n",
              "        display: none;\n",
              "        fill: #1967D2;\n",
              "        height: 32px;\n",
              "        padding: 0 0 0 0;\n",
              "        width: 32px;\n",
              "      }\n",
              "\n",
              "      .colab-df-generate:hover {\n",
              "        background-color: #E2EBFA;\n",
              "        box-shadow: 0px 1px 2px rgba(60, 64, 67, 0.3), 0px 1px 3px 1px rgba(60, 64, 67, 0.15);\n",
              "        fill: #174EA6;\n",
              "      }\n",
              "\n",
              "      [theme=dark] .colab-df-generate {\n",
              "        background-color: #3B4455;\n",
              "        fill: #D2E3FC;\n",
              "      }\n",
              "\n",
              "      [theme=dark] .colab-df-generate:hover {\n",
              "        background-color: #434B5C;\n",
              "        box-shadow: 0px 1px 3px 1px rgba(0, 0, 0, 0.15);\n",
              "        filter: drop-shadow(0px 1px 2px rgba(0, 0, 0, 0.3));\n",
              "        fill: #FFFFFF;\n",
              "      }\n",
              "    </style>\n",
              "    <button class=\"colab-df-generate\" onclick=\"generateWithVariable('matchup_data')\"\n",
              "            title=\"Generate code using this dataframe.\"\n",
              "            style=\"display:none;\">\n",
              "\n",
              "  <svg xmlns=\"http://www.w3.org/2000/svg\" height=\"24px\"viewBox=\"0 0 24 24\"\n",
              "       width=\"24px\">\n",
              "    <path d=\"M7,19H8.4L18.45,9,17,7.55,7,17.6ZM5,21V16.75L18.45,3.32a2,2,0,0,1,2.83,0l1.4,1.43a1.91,1.91,0,0,1,.58,1.4,1.91,1.91,0,0,1-.58,1.4L9.25,21ZM18.45,9,17,7.55Zm-12,3A5.31,5.31,0,0,0,4.9,8.1,5.31,5.31,0,0,0,1,6.5,5.31,5.31,0,0,0,4.9,4.9,5.31,5.31,0,0,0,6.5,1,5.31,5.31,0,0,0,8.1,4.9,5.31,5.31,0,0,0,12,6.5,5.46,5.46,0,0,0,6.5,12Z\"/>\n",
              "  </svg>\n",
              "    </button>\n",
              "    <script>\n",
              "      (() => {\n",
              "      const buttonEl =\n",
              "        document.querySelector('#id_7f1064e6-0ba3-467c-8838-f4abcc95d95c button.colab-df-generate');\n",
              "      buttonEl.style.display =\n",
              "        google.colab.kernel.accessAllowed ? 'block' : 'none';\n",
              "\n",
              "      buttonEl.onclick = () => {\n",
              "        google.colab.notebook.generateWithVariable('matchup_data');\n",
              "      }\n",
              "      })();\n",
              "    </script>\n",
              "  </div>\n",
              "\n",
              "    </div>\n",
              "  </div>\n"
            ],
            "application/vnd.google.colaboratory.intrinsic+json": {
              "type": "dataframe",
              "variable_name": "matchup_data"
            }
          },
          "metadata": {}
        },
        {
          "output_type": "stream",
          "name": "stdout",
          "text": [
            "[[0.99426877 0.00573123]]\n"
          ]
        }
      ]
    }
  ]
}