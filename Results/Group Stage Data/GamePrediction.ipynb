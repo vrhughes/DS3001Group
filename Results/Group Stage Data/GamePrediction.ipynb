{
  "nbformat": 4,
  "nbformat_minor": 0,
  "metadata": {
    "colab": {
      "provenance": []
    },
    "kernelspec": {
      "name": "python3",
      "display_name": "Python 3"
    },
    "language_info": {
      "name": "python"
    }
  },
  "cells": [
    {
      "cell_type": "code",
      "execution_count": 1,
      "metadata": {
        "colab": {
          "base_uri": "https://localhost:8080/"
        },
        "id": "XHWmdCjEYm9T",
        "outputId": "60f1cc58-3bf1-410d-f051-bb5753d0b186"
      },
      "outputs": [
        {
          "output_type": "stream",
          "name": "stdout",
          "text": [
            "<class 'pandas.core.frame.DataFrame'>\n",
            "RangeIndex: 23921 entries, 0 to 23920\n",
            "Data columns (total 25 columns):\n",
            " #   Column                         Non-Null Count  Dtype  \n",
            "---  ------                         --------------  -----  \n",
            " 0   date                           23921 non-null  object \n",
            " 1   home_team                      23921 non-null  object \n",
            " 2   away_team                      23921 non-null  object \n",
            " 3   home_team_continent            23921 non-null  object \n",
            " 4   away_team_continent            23921 non-null  object \n",
            " 5   home_team_fifa_rank            23921 non-null  int64  \n",
            " 6   away_team_fifa_rank            23921 non-null  int64  \n",
            " 7   home_team_total_fifa_points    23921 non-null  int64  \n",
            " 8   away_team_total_fifa_points    23921 non-null  int64  \n",
            " 9   home_team_score                23921 non-null  int64  \n",
            " 10  away_team_score                23921 non-null  int64  \n",
            " 11  tournament                     23921 non-null  object \n",
            " 12  city                           23921 non-null  object \n",
            " 13  country                        23921 non-null  object \n",
            " 14  neutral_location               23921 non-null  bool   \n",
            " 15  shoot_out                      23921 non-null  object \n",
            " 16  home_team_result               23921 non-null  object \n",
            " 17  home_team_goalkeeper_score     8379 non-null   float64\n",
            " 18  away_team_goalkeeper_score     8095 non-null   float64\n",
            " 19  home_team_mean_defense_score   7787 non-null   float64\n",
            " 20  home_team_mean_offense_score   8510 non-null   float64\n",
            " 21  home_team_mean_midfield_score  8162 non-null   float64\n",
            " 22  away_team_mean_defense_score   7564 non-null   float64\n",
            " 23  away_team_mean_offense_score   8312 non-null   float64\n",
            " 24  away_team_mean_midfield_score  7979 non-null   float64\n",
            "dtypes: bool(1), float64(8), int64(6), object(10)\n",
            "memory usage: 4.4+ MB\n",
            "None\n"
          ]
        }
      ],
      "source": [
        "import pandas as pd\n",
        "\n",
        "# Load the CSV file\n",
        "df = pd.read_csv(\"international_matches 3.csv\")\n",
        "\n",
        "# Display the first few rows\n",
        "df.head()\n",
        "print(df.info())"
      ]
    },
    {
      "cell_type": "code",
      "source": [
        "# list of the groups in world cup tornament\n",
        "groups = {\n",
        "    \"Group A\": [\"Netherlands\", \"Senegal\", \"Ecuador\", \"Qatar\"],\n",
        "    \"Group B\": [\"England\", \"USA\", \"Iran\", \"Wales\"],\n",
        "    \"Group C\": [\"Argentina\", \"Poland\", \"Mexico\", \"Saudi Arabia\"],\n",
        "    \"Group D\": [\"France\", \"Australia\", \"Tunisia\", \"Denmark\"],\n",
        "    \"Group E\": [\"Japan\", \"Spain\", \"Germany\", \"Costa Rica\"],\n",
        "    \"Group F\": [\"Morocco\", \"Croatia\", \"Belgium\", \"Canada\"],\n",
        "    \"Group G\": [\"Brazil\", \"Switzerland\", \"Cameroon\", \"Serbia\"],\n",
        "    \"Group H\": [\"Portugal\", \"South Korea\", \"Uruguay\", \"Ghana\"]\n",
        "}\n",
        "\n",
        "# list of qualified teams\n",
        "qualified_teams = [\n",
        "    \"Netherlands\",\"Senegal\",\"England\",\"USA\",\"Argentina\",\"Poland\",\n",
        "    \"France\",\"Australia\",\"Japan\",\"Spain\",\"Morocco\",\"Croatia\",\n",
        "    \"Brazil\",\"Switzerland\",\"Portugal\",\"South Korea\"\n",
        "]"
      ],
      "metadata": {
        "id": "DaSgUgLFLVGR"
      },
      "execution_count": 3,
      "outputs": []
    },
    {
      "cell_type": "code",
      "source": [
        "import pandas as pd\n",
        "from sklearn.model_selection import train_test_split\n",
        "from sklearn.tree import DecisionTreeClassifier\n",
        "from sklearn.preprocessing import StandardScaler, LabelEncoder\n",
        "from sklearn.metrics import accuracy_score\n",
        "\n",
        "# if home team loses, the away team gets the point\n",
        "def encode_result(row):\n",
        "    if row['home_team_result'] == 'Win':\n",
        "        return 1, 0  #1 for home, 0 for away\n",
        "    else:\n",
        "        return 0, 1  # 0 for home, 1 for away\n",
        "\n",
        "# function to encode results\n",
        "df[['home_result', 'away_result']] = df.apply(encode_result, axis=1, result_type=\"expand\")\n",
        "\n",
        "# new feature for rank difference\n",
        "df['rank_diff'] = df['home_team_fifa_rank'] - df['away_team_fifa_rank']\n",
        "\n",
        "# new feature for point difference\n",
        "df['points_diff'] = df['home_team_total_fifa_points'] - df['away_team_total_fifa_points']\n",
        "\n",
        "# new feature for score difference\n",
        "df['score_diff'] = df['home_team_score'] - df['away_team_score']\n",
        "\n",
        "# the features will be used for the the model\n",
        "X = df[['home_team_fifa_rank', 'away_team_fifa_rank',\n",
        "        'home_team_total_fifa_points', 'away_team_total_fifa_points',\n",
        "        'home_team_score', 'away_team_score', 'rank_diff', 'points_diff', 'score_diff']]\n",
        "\n",
        "# variable for home and away result\n",
        "y_home = df['home_result']  # Target for home team win (1) or loss (0)\n",
        "y_away = df['away_result']  # Target for away team win (1) or loss (0)\n",
        "\n",
        "# split the data into training and testing sets\n",
        "X_train, X_test, y_home_train, y_home_test, y_away_train, y_away_test = train_test_split(\n",
        "    X, y_home, y_away, test_size=0.2, random_state=42)\n",
        "\n",
        "# Normalize the features to make sure all the features are on the same scale\n",
        "scaler = StandardScaler()\n",
        "X_train_scaled = scaler.fit_transform(X_train)\n",
        "X_test_scaled = scaler.transform(X_test)\n",
        "\n",
        "# Initialize and train the Decision Tree model for home team prediction\n",
        "clf_home = DecisionTreeClassifier(random_state=42, max_depth=10, min_samples_split=10, min_samples_leaf=5)\n",
        "clf_home.fit(X_train_scaled, y_home_train)\n",
        "\n",
        "# Initialize and train the Decision Tree model for away team prediction\n",
        "clf_away = DecisionTreeClassifier(random_state=42, max_depth=10, min_samples_split=10, min_samples_leaf=5)\n",
        "clf_away.fit(X_train_scaled, y_away_train)\n",
        "\n",
        "# Predict the outcomes for the test set\n",
        "y_home_pred = clf_home.predict(X_test_scaled)\n",
        "y_away_pred = clf_away.predict(X_test_scaled)\n",
        "\n",
        "# Calculate the accuracy of the models\n",
        "accuracy_home = accuracy_score(y_home_test, y_home_pred)\n",
        "accuracy_away = accuracy_score(y_away_test, y_away_pred)\n",
        "\n",
        "print(f'Home team prediction accuracy: {accuracy_home * 100:.2f}%')\n",
        "print(f'Away team prediction accuracy: {accuracy_away * 100:.2f}%')\n",
        "\n",
        "# list of qualified teams for the 2022 World Cup\n",
        "qualified_teams = [\n",
        "    \"Netherlands\", \"Senegal\", \"England\", \"USA\", \"Argentina\", \"Poland\",\n",
        "    \"France\", \"Australia\", \"Japan\", \"Spain\", \"Morocco\", \"Croatia\",\n",
        "    \"Brazil\", \"Switzerland\", \"Portugal\", \"South Korea\"\n",
        "]\n",
        "\n",
        "# Function to get the team statistics\n",
        "def get_team_statistics(team_name):\n",
        "    team_data_home = df[df['home_team'] == team_name]\n",
        "    team_data_away = df[df['away_team'] == team_name]\n",
        "\n",
        "    # Aggregate the team's historical performance\n",
        "    total_fifa_points = team_data_home['home_team_total_fifa_points'].sum() + team_data_away['away_team_total_fifa_points'].sum()\n",
        "    average_fifa_rank = (team_data_home['home_team_fifa_rank'].mean() + team_data_away['away_team_fifa_rank'].mean()) / 2\n",
        "\n",
        "    # Calculate the number of home and away wins\n",
        "    home_wins = team_data_home[team_data_home['home_result'] == 1].shape[0]\n",
        "    away_wins = team_data_away[team_data_away['away_result'] == 1].shape[0]\n",
        "\n",
        "    return total_fifa_points, average_fifa_rank, home_wins, away_wins\n",
        "\n",
        "# Now let's get the statistics for each team and predict which one is most likely to win\n",
        "team_performance = {}\n",
        "for team in qualified_teams:\n",
        "    total_fifa_points, average_fifa_rank, home_wins, away_wins = get_team_statistics(team)\n",
        "    team_performance[team] = {\n",
        "        'total_fifa_points': total_fifa_points,\n",
        "        'average_fifa_rank': average_fifa_rank,\n",
        "        'home_wins': home_wins,\n",
        "        'away_wins': away_wins\n",
        "    }\n",
        "\n",
        "# Rank the teams based on their total FIFA points and average FIFA rank\n",
        "sorted_teams = sorted(team_performance.items(), key=lambda x: (x[1]['total_fifa_points'], -x[1]['average_fifa_rank'], x[1]['home_wins'] + x[1]['away_wins']), reverse=True)\n",
        "\n",
        "# Display the predicted top 3 teams\n",
        "print(\"Predicted top teams:\")\n",
        "for rank, (team, performance) in enumerate(sorted_teams[:3], 1):\n",
        "    print(f\"{rank}. {team} (Total FIFA Points: {performance['total_fifa_points']}, Average FIFA Rank: {performance['average_fifa_rank']:.2f}, Wins: {performance['home_wins'] + performance['away_wins']})\")\n"
      ],
      "metadata": {
        "colab": {
          "base_uri": "https://localhost:8080/"
        },
        "id": "8IvVnL9-8qU-",
        "outputId": "1e2233b9-beed-4a5e-e2f5-a3fd9e247ab9"
      },
      "execution_count": 7,
      "outputs": [
        {
          "output_type": "stream",
          "name": "stdout",
          "text": [
            "Home team prediction accuracy: 99.12%\n",
            "Away team prediction accuracy: 99.12%\n",
            "Predicted top teams:\n",
            "1. Spain (Total FIFA Points: 206508, Average FIFA Rank: 5.42, Wins: 283)\n",
            "2. Brazil (Total FIFA Points: 203947, Average FIFA Rank: 3.12, Wins: 346)\n",
            "3. Argentina (Total FIFA Points: 194845, Average FIFA Rank: 6.30, Wins: 259)\n"
          ]
        }
      ]
    }
  ]
}