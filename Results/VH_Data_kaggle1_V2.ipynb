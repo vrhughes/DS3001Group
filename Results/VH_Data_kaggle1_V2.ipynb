{
  "nbformat": 4,
  "nbformat_minor": 0,
  "metadata": {
    "colab": {
      "provenance": [],
      "include_colab_link": true
    },
    "kernelspec": {
      "name": "python3",
      "display_name": "Python 3"
    },
    "language_info": {
      "name": "python"
    }
  },
  "cells": [
    {
      "cell_type": "markdown",
      "metadata": {
        "id": "view-in-github",
        "colab_type": "text"
      },
      "source": [
        "<a href=\"https://colab.research.google.com/github/vrhughes/DS3001Group/blob/main/Results/VH_Data_kaggle1_V2.ipynb\" target=\"_parent\"><img src=\"https://colab.research.google.com/assets/colab-badge.svg\" alt=\"Open In Colab\"/></a>"
      ]
    },
    {
      "cell_type": "code",
      "execution_count": 1,
      "metadata": {
        "id": "7n2tyx43m1sT",
        "colab": {
          "base_uri": "https://localhost:8080/"
        },
        "outputId": "4e5dd314-0f57-4896-f554-61e3b45166ca"
      },
      "outputs": [
        {
          "output_type": "stream",
          "name": "stdout",
          "text": [
            "Cloning into 'DS3001Group'...\n",
            "remote: Enumerating objects: 189, done.\u001b[K\n",
            "remote: Counting objects: 100% (63/63), done.\u001b[K\n",
            "remote: Compressing objects: 100% (53/53), done.\u001b[K\n",
            "remote: Total 189 (delta 31), reused 7 (delta 7), pack-reused 126 (from 1)\u001b[K\n",
            "Receiving objects: 100% (189/189), 1.63 MiB | 14.90 MiB/s, done.\n",
            "Resolving deltas: 100% (73/73), done.\n"
          ]
        }
      ],
      "source": [
        "# Cloning the data over from Github\n",
        "! git clone https://github.com/vrhughes/DS3001Group"
      ]
    },
    {
      "cell_type": "code",
      "source": [
        "# Importing relevant packages\n",
        "import pandas as pd\n",
        "import numpy as np\n",
        "import matplotlib.pyplot as plt\n",
        "import seaborn as sns"
      ],
      "metadata": {
        "id": "lx-Ao88inhNB"
      },
      "execution_count": 2,
      "outputs": []
    },
    {
      "cell_type": "code",
      "source": [
        "# Saving all of the group AND finals data to a dataframe variable\n",
        "data = pd.read_csv('https://raw.githubusercontent.com/vrhughes/DS3001Group/main/Data/kaggle1.csv')\n",
        "\n",
        "# Taking an initial look at the data\n",
        "#display(data)\n",
        "\n",
        "# Removing variables that are superfluous and/or unrelated to match performance\n",
        "data = data.drop(['date', 'hour', 'left channel team1', 'left channel team2', 'left inside channel team1', 'left inside channel team2', 'central channel team1', 'central channel team2', 'right inside channel team1', 'right inside channel team2', 'right channel team1', 'right channel team2', 'own goals team1', 'own goals team2', 'possession in contest'], axis=1)\n",
        "data = data.drop(['total offers to receive team1', 'total offers to receive team2', 'inbehind offers to receive team1', 'inbehind offers to receive team2', 'inbetween offers to receive team1', 'inbetween offers to receive team2', 'infront offers to receive team1', 'infront offers to receive team2', 'receptions between midfield and defensive lines team1', 'receptions between midfield and defensive lines team2', 'attempted line breaks team1', 'attempted line breaks team2', 'completed line breaksteam1', 'completed line breaks team2', 'attempted defensive line breaks team1', 'attempted defensive line breaks team2', 'switches of play completed team1', 'switches of play completed team2'], axis=1)\n",
        "\n",
        "# Looking at the data again\n",
        "#display(data)"
      ],
      "metadata": {
        "id": "BKRFVVBsn3LG"
      },
      "execution_count": 3,
      "outputs": []
    },
    {
      "cell_type": "markdown",
      "source": [
        "Now that we've removed most of the irrelevant data we have a clearer view and can ask some questions.\n",
        "\n"
      ],
      "metadata": {
        "id": "7gDiizXA4rd-"
      }
    },
    {
      "cell_type": "code",
      "source": [
        "##################################################"
      ],
      "metadata": {
        "id": "XhLTbUpfhxJo"
      },
      "execution_count": 4,
      "outputs": []
    },
    {
      "cell_type": "markdown",
      "source": [
        "Many of the matches after the group stages went to penalty kicks which isn't accounted for in the \"penalties scored ...\" variables. First I'll look into this."
      ],
      "metadata": {
        "id": "pAF1Z1YXglPV"
      }
    },
    {
      "cell_type": "code",
      "source": [
        "# Tells us if the game went to penalties\n",
        "went_to_pen = []\n",
        "for index, row in data.iterrows():\n",
        "  if (row['number of goals team1'] == row['number of goals team2']) and 'Group' in row['category']:\n",
        "    went_to_pen.append(False)\n",
        "  elif row['number of goals team1'] == row['number of goals team2'] and 'Group' not in row['category']:\n",
        "    went_to_pen.append(True)\n",
        "  else:\n",
        "    went_to_pen.append(False)\n",
        "\n",
        "# now we can tell if the games went to penalties\n",
        "print(went_to_pen)\n",
        "\n",
        "# finding the indexes where games went to penalties\n",
        "indexes_pen = [i for i, x in enumerate(went_to_pen) if x]\n",
        "print(indexes_pen, '\\n')\n",
        "print('# of games that went to penalties:', len(indexes_pen))\n"
      ],
      "metadata": {
        "colab": {
          "base_uri": "https://localhost:8080/"
        },
        "id": "LcC4hUKh7uIw",
        "outputId": "719ad834-12ea-45f3-e7ff-9598a2909986"
      },
      "execution_count": 5,
      "outputs": [
        {
          "output_type": "stream",
          "name": "stdout",
          "text": [
            "[False, False, False, False, False, False, False, False, False, False, False, False, False, False, False, False, False, False, False, False, False, False, False, False, False, False, False, False, False, False, False, False, False, False, False, False, False, False, False, False, False, False, False, False, False, False, False, False, False, False, False, False, True, False, True, False, True, True, False, False, False, False, False, True]\n",
            "[52, 54, 56, 57, 63] \n",
            "\n",
            "# of games that went to penalties: 5\n"
          ]
        }
      ]
    },
    {
      "cell_type": "markdown",
      "source": [
        "We can confirm that this code worked because the actual number of games that went to penalty kicks was 5."
      ],
      "metadata": {
        "id": "oM4h-YhK9xjK"
      }
    },
    {
      "cell_type": "markdown",
      "source": [
        "This is no working super well... I will continue to work on this"
      ],
      "metadata": {
        "id": "XHYEG0vNA8eM"
      }
    },
    {
      "cell_type": "code",
      "source": [
        "##################################################"
      ],
      "metadata": {
        "id": "fTinjxxNhpX-"
      },
      "execution_count": 6,
      "outputs": []
    },
    {
      "cell_type": "markdown",
      "source": [
        "Now I'll look at if there's any significant correlation between the percentage of the time that a team had possession of the ball and whether or not they won a particular game."
      ],
      "metadata": {
        "id": "BS-SAJK4hbZr"
      }
    },
    {
      "cell_type": "code",
      "source": [
        "data.head()"
      ],
      "metadata": {
        "id": "0PODAMh2BsmP",
        "outputId": "7e82d32f-1896-41c6-afca-ccf0849441b9",
        "colab": {
          "base_uri": "https://localhost:8080/",
          "height": 325
        }
      },
      "execution_count": 7,
      "outputs": [
        {
          "output_type": "execute_result",
          "data": {
            "text/plain": [
              "           team1         team2 possession team1 possession team2  \\\n",
              "0          QATAR       ECUADOR              42%              50%   \n",
              "1        ENGLAND          IRAN              72%              19%   \n",
              "2        SENEGAL   NETHERLANDS              44%              45%   \n",
              "3  UNITED STATES         WALES              51%              39%   \n",
              "4      ARGENTINA  SAUDI ARABIA              64%              24%   \n",
              "\n",
              "   number of goals team1  number of goals team2 category  \\\n",
              "0                      0                      2  Group A   \n",
              "1                      6                      2  Group B   \n",
              "2                      0                      2  Group A   \n",
              "3                      1                      1  Group B   \n",
              "4                      1                      2  Group C   \n",
              "\n",
              "   total attempts team1  total attempts team2  conceded team1  ...  \\\n",
              "0                     5                     6               2  ...   \n",
              "1                    13                     8               2  ...   \n",
              "2                    14                     9               2  ...   \n",
              "3                     6                     7               1  ...   \n",
              "4                    14                     3               2  ...   \n",
              "\n",
              "   free kicks team1  free kicks team2  penalties scored team1  \\\n",
              "0                19                17                       0   \n",
              "1                16                10                       0   \n",
              "2                14                14                       0   \n",
              "3                11                15                       0   \n",
              "4                22                16                       1   \n",
              "\n",
              "   penalties scored team2  goal preventions team1  goal preventions team2  \\\n",
              "0                       1                       6                       5   \n",
              "1                       1                       8                      13   \n",
              "2                       0                       9                      15   \n",
              "3                       1                       7                       7   \n",
              "4                       0                       4                      14   \n",
              "\n",
              "   forced turnovers team1  forced turnovers team2  \\\n",
              "0                      52                      72   \n",
              "1                      63                      72   \n",
              "2                      63                      73   \n",
              "3                      81                      72   \n",
              "4                      65                      80   \n",
              "\n",
              "   defensive pressures applied team1  defensive pressures applied team2  \n",
              "0                                256                                279  \n",
              "1                                139                                416  \n",
              "2                                263                                251  \n",
              "3                                242                                292  \n",
              "4                                163                                361  \n",
              "\n",
              "[5 rows x 55 columns]"
            ],
            "text/html": [
              "\n",
              "  <div id=\"df-2b4e9646-9fb3-4200-9022-33285db815b9\" class=\"colab-df-container\">\n",
              "    <div>\n",
              "<style scoped>\n",
              "    .dataframe tbody tr th:only-of-type {\n",
              "        vertical-align: middle;\n",
              "    }\n",
              "\n",
              "    .dataframe tbody tr th {\n",
              "        vertical-align: top;\n",
              "    }\n",
              "\n",
              "    .dataframe thead th {\n",
              "        text-align: right;\n",
              "    }\n",
              "</style>\n",
              "<table border=\"1\" class=\"dataframe\">\n",
              "  <thead>\n",
              "    <tr style=\"text-align: right;\">\n",
              "      <th></th>\n",
              "      <th>team1</th>\n",
              "      <th>team2</th>\n",
              "      <th>possession team1</th>\n",
              "      <th>possession team2</th>\n",
              "      <th>number of goals team1</th>\n",
              "      <th>number of goals team2</th>\n",
              "      <th>category</th>\n",
              "      <th>total attempts team1</th>\n",
              "      <th>total attempts team2</th>\n",
              "      <th>conceded team1</th>\n",
              "      <th>...</th>\n",
              "      <th>free kicks team1</th>\n",
              "      <th>free kicks team2</th>\n",
              "      <th>penalties scored team1</th>\n",
              "      <th>penalties scored team2</th>\n",
              "      <th>goal preventions team1</th>\n",
              "      <th>goal preventions team2</th>\n",
              "      <th>forced turnovers team1</th>\n",
              "      <th>forced turnovers team2</th>\n",
              "      <th>defensive pressures applied team1</th>\n",
              "      <th>defensive pressures applied team2</th>\n",
              "    </tr>\n",
              "  </thead>\n",
              "  <tbody>\n",
              "    <tr>\n",
              "      <th>0</th>\n",
              "      <td>QATAR</td>\n",
              "      <td>ECUADOR</td>\n",
              "      <td>42%</td>\n",
              "      <td>50%</td>\n",
              "      <td>0</td>\n",
              "      <td>2</td>\n",
              "      <td>Group A</td>\n",
              "      <td>5</td>\n",
              "      <td>6</td>\n",
              "      <td>2</td>\n",
              "      <td>...</td>\n",
              "      <td>19</td>\n",
              "      <td>17</td>\n",
              "      <td>0</td>\n",
              "      <td>1</td>\n",
              "      <td>6</td>\n",
              "      <td>5</td>\n",
              "      <td>52</td>\n",
              "      <td>72</td>\n",
              "      <td>256</td>\n",
              "      <td>279</td>\n",
              "    </tr>\n",
              "    <tr>\n",
              "      <th>1</th>\n",
              "      <td>ENGLAND</td>\n",
              "      <td>IRAN</td>\n",
              "      <td>72%</td>\n",
              "      <td>19%</td>\n",
              "      <td>6</td>\n",
              "      <td>2</td>\n",
              "      <td>Group B</td>\n",
              "      <td>13</td>\n",
              "      <td>8</td>\n",
              "      <td>2</td>\n",
              "      <td>...</td>\n",
              "      <td>16</td>\n",
              "      <td>10</td>\n",
              "      <td>0</td>\n",
              "      <td>1</td>\n",
              "      <td>8</td>\n",
              "      <td>13</td>\n",
              "      <td>63</td>\n",
              "      <td>72</td>\n",
              "      <td>139</td>\n",
              "      <td>416</td>\n",
              "    </tr>\n",
              "    <tr>\n",
              "      <th>2</th>\n",
              "      <td>SENEGAL</td>\n",
              "      <td>NETHERLANDS</td>\n",
              "      <td>44%</td>\n",
              "      <td>45%</td>\n",
              "      <td>0</td>\n",
              "      <td>2</td>\n",
              "      <td>Group A</td>\n",
              "      <td>14</td>\n",
              "      <td>9</td>\n",
              "      <td>2</td>\n",
              "      <td>...</td>\n",
              "      <td>14</td>\n",
              "      <td>14</td>\n",
              "      <td>0</td>\n",
              "      <td>0</td>\n",
              "      <td>9</td>\n",
              "      <td>15</td>\n",
              "      <td>63</td>\n",
              "      <td>73</td>\n",
              "      <td>263</td>\n",
              "      <td>251</td>\n",
              "    </tr>\n",
              "    <tr>\n",
              "      <th>3</th>\n",
              "      <td>UNITED STATES</td>\n",
              "      <td>WALES</td>\n",
              "      <td>51%</td>\n",
              "      <td>39%</td>\n",
              "      <td>1</td>\n",
              "      <td>1</td>\n",
              "      <td>Group B</td>\n",
              "      <td>6</td>\n",
              "      <td>7</td>\n",
              "      <td>1</td>\n",
              "      <td>...</td>\n",
              "      <td>11</td>\n",
              "      <td>15</td>\n",
              "      <td>0</td>\n",
              "      <td>1</td>\n",
              "      <td>7</td>\n",
              "      <td>7</td>\n",
              "      <td>81</td>\n",
              "      <td>72</td>\n",
              "      <td>242</td>\n",
              "      <td>292</td>\n",
              "    </tr>\n",
              "    <tr>\n",
              "      <th>4</th>\n",
              "      <td>ARGENTINA</td>\n",
              "      <td>SAUDI ARABIA</td>\n",
              "      <td>64%</td>\n",
              "      <td>24%</td>\n",
              "      <td>1</td>\n",
              "      <td>2</td>\n",
              "      <td>Group C</td>\n",
              "      <td>14</td>\n",
              "      <td>3</td>\n",
              "      <td>2</td>\n",
              "      <td>...</td>\n",
              "      <td>22</td>\n",
              "      <td>16</td>\n",
              "      <td>1</td>\n",
              "      <td>0</td>\n",
              "      <td>4</td>\n",
              "      <td>14</td>\n",
              "      <td>65</td>\n",
              "      <td>80</td>\n",
              "      <td>163</td>\n",
              "      <td>361</td>\n",
              "    </tr>\n",
              "  </tbody>\n",
              "</table>\n",
              "<p>5 rows × 55 columns</p>\n",
              "</div>\n",
              "    <div class=\"colab-df-buttons\">\n",
              "\n",
              "  <div class=\"colab-df-container\">\n",
              "    <button class=\"colab-df-convert\" onclick=\"convertToInteractive('df-2b4e9646-9fb3-4200-9022-33285db815b9')\"\n",
              "            title=\"Convert this dataframe to an interactive table.\"\n",
              "            style=\"display:none;\">\n",
              "\n",
              "  <svg xmlns=\"http://www.w3.org/2000/svg\" height=\"24px\" viewBox=\"0 -960 960 960\">\n",
              "    <path d=\"M120-120v-720h720v720H120Zm60-500h600v-160H180v160Zm220 220h160v-160H400v160Zm0 220h160v-160H400v160ZM180-400h160v-160H180v160Zm440 0h160v-160H620v160ZM180-180h160v-160H180v160Zm440 0h160v-160H620v160Z\"/>\n",
              "  </svg>\n",
              "    </button>\n",
              "\n",
              "  <style>\n",
              "    .colab-df-container {\n",
              "      display:flex;\n",
              "      gap: 12px;\n",
              "    }\n",
              "\n",
              "    .colab-df-convert {\n",
              "      background-color: #E8F0FE;\n",
              "      border: none;\n",
              "      border-radius: 50%;\n",
              "      cursor: pointer;\n",
              "      display: none;\n",
              "      fill: #1967D2;\n",
              "      height: 32px;\n",
              "      padding: 0 0 0 0;\n",
              "      width: 32px;\n",
              "    }\n",
              "\n",
              "    .colab-df-convert:hover {\n",
              "      background-color: #E2EBFA;\n",
              "      box-shadow: 0px 1px 2px rgba(60, 64, 67, 0.3), 0px 1px 3px 1px rgba(60, 64, 67, 0.15);\n",
              "      fill: #174EA6;\n",
              "    }\n",
              "\n",
              "    .colab-df-buttons div {\n",
              "      margin-bottom: 4px;\n",
              "    }\n",
              "\n",
              "    [theme=dark] .colab-df-convert {\n",
              "      background-color: #3B4455;\n",
              "      fill: #D2E3FC;\n",
              "    }\n",
              "\n",
              "    [theme=dark] .colab-df-convert:hover {\n",
              "      background-color: #434B5C;\n",
              "      box-shadow: 0px 1px 3px 1px rgba(0, 0, 0, 0.15);\n",
              "      filter: drop-shadow(0px 1px 2px rgba(0, 0, 0, 0.3));\n",
              "      fill: #FFFFFF;\n",
              "    }\n",
              "  </style>\n",
              "\n",
              "    <script>\n",
              "      const buttonEl =\n",
              "        document.querySelector('#df-2b4e9646-9fb3-4200-9022-33285db815b9 button.colab-df-convert');\n",
              "      buttonEl.style.display =\n",
              "        google.colab.kernel.accessAllowed ? 'block' : 'none';\n",
              "\n",
              "      async function convertToInteractive(key) {\n",
              "        const element = document.querySelector('#df-2b4e9646-9fb3-4200-9022-33285db815b9');\n",
              "        const dataTable =\n",
              "          await google.colab.kernel.invokeFunction('convertToInteractive',\n",
              "                                                    [key], {});\n",
              "        if (!dataTable) return;\n",
              "\n",
              "        const docLinkHtml = 'Like what you see? Visit the ' +\n",
              "          '<a target=\"_blank\" href=https://colab.research.google.com/notebooks/data_table.ipynb>data table notebook</a>'\n",
              "          + ' to learn more about interactive tables.';\n",
              "        element.innerHTML = '';\n",
              "        dataTable['output_type'] = 'display_data';\n",
              "        await google.colab.output.renderOutput(dataTable, element);\n",
              "        const docLink = document.createElement('div');\n",
              "        docLink.innerHTML = docLinkHtml;\n",
              "        element.appendChild(docLink);\n",
              "      }\n",
              "    </script>\n",
              "  </div>\n",
              "\n",
              "\n",
              "<div id=\"df-29eec6e0-be44-45f7-a669-824ee13ce9f8\">\n",
              "  <button class=\"colab-df-quickchart\" onclick=\"quickchart('df-29eec6e0-be44-45f7-a669-824ee13ce9f8')\"\n",
              "            title=\"Suggest charts\"\n",
              "            style=\"display:none;\">\n",
              "\n",
              "<svg xmlns=\"http://www.w3.org/2000/svg\" height=\"24px\"viewBox=\"0 0 24 24\"\n",
              "     width=\"24px\">\n",
              "    <g>\n",
              "        <path d=\"M19 3H5c-1.1 0-2 .9-2 2v14c0 1.1.9 2 2 2h14c1.1 0 2-.9 2-2V5c0-1.1-.9-2-2-2zM9 17H7v-7h2v7zm4 0h-2V7h2v10zm4 0h-2v-4h2v4z\"/>\n",
              "    </g>\n",
              "</svg>\n",
              "  </button>\n",
              "\n",
              "<style>\n",
              "  .colab-df-quickchart {\n",
              "      --bg-color: #E8F0FE;\n",
              "      --fill-color: #1967D2;\n",
              "      --hover-bg-color: #E2EBFA;\n",
              "      --hover-fill-color: #174EA6;\n",
              "      --disabled-fill-color: #AAA;\n",
              "      --disabled-bg-color: #DDD;\n",
              "  }\n",
              "\n",
              "  [theme=dark] .colab-df-quickchart {\n",
              "      --bg-color: #3B4455;\n",
              "      --fill-color: #D2E3FC;\n",
              "      --hover-bg-color: #434B5C;\n",
              "      --hover-fill-color: #FFFFFF;\n",
              "      --disabled-bg-color: #3B4455;\n",
              "      --disabled-fill-color: #666;\n",
              "  }\n",
              "\n",
              "  .colab-df-quickchart {\n",
              "    background-color: var(--bg-color);\n",
              "    border: none;\n",
              "    border-radius: 50%;\n",
              "    cursor: pointer;\n",
              "    display: none;\n",
              "    fill: var(--fill-color);\n",
              "    height: 32px;\n",
              "    padding: 0;\n",
              "    width: 32px;\n",
              "  }\n",
              "\n",
              "  .colab-df-quickchart:hover {\n",
              "    background-color: var(--hover-bg-color);\n",
              "    box-shadow: 0 1px 2px rgba(60, 64, 67, 0.3), 0 1px 3px 1px rgba(60, 64, 67, 0.15);\n",
              "    fill: var(--button-hover-fill-color);\n",
              "  }\n",
              "\n",
              "  .colab-df-quickchart-complete:disabled,\n",
              "  .colab-df-quickchart-complete:disabled:hover {\n",
              "    background-color: var(--disabled-bg-color);\n",
              "    fill: var(--disabled-fill-color);\n",
              "    box-shadow: none;\n",
              "  }\n",
              "\n",
              "  .colab-df-spinner {\n",
              "    border: 2px solid var(--fill-color);\n",
              "    border-color: transparent;\n",
              "    border-bottom-color: var(--fill-color);\n",
              "    animation:\n",
              "      spin 1s steps(1) infinite;\n",
              "  }\n",
              "\n",
              "  @keyframes spin {\n",
              "    0% {\n",
              "      border-color: transparent;\n",
              "      border-bottom-color: var(--fill-color);\n",
              "      border-left-color: var(--fill-color);\n",
              "    }\n",
              "    20% {\n",
              "      border-color: transparent;\n",
              "      border-left-color: var(--fill-color);\n",
              "      border-top-color: var(--fill-color);\n",
              "    }\n",
              "    30% {\n",
              "      border-color: transparent;\n",
              "      border-left-color: var(--fill-color);\n",
              "      border-top-color: var(--fill-color);\n",
              "      border-right-color: var(--fill-color);\n",
              "    }\n",
              "    40% {\n",
              "      border-color: transparent;\n",
              "      border-right-color: var(--fill-color);\n",
              "      border-top-color: var(--fill-color);\n",
              "    }\n",
              "    60% {\n",
              "      border-color: transparent;\n",
              "      border-right-color: var(--fill-color);\n",
              "    }\n",
              "    80% {\n",
              "      border-color: transparent;\n",
              "      border-right-color: var(--fill-color);\n",
              "      border-bottom-color: var(--fill-color);\n",
              "    }\n",
              "    90% {\n",
              "      border-color: transparent;\n",
              "      border-bottom-color: var(--fill-color);\n",
              "    }\n",
              "  }\n",
              "</style>\n",
              "\n",
              "  <script>\n",
              "    async function quickchart(key) {\n",
              "      const quickchartButtonEl =\n",
              "        document.querySelector('#' + key + ' button');\n",
              "      quickchartButtonEl.disabled = true;  // To prevent multiple clicks.\n",
              "      quickchartButtonEl.classList.add('colab-df-spinner');\n",
              "      try {\n",
              "        const charts = await google.colab.kernel.invokeFunction(\n",
              "            'suggestCharts', [key], {});\n",
              "      } catch (error) {\n",
              "        console.error('Error during call to suggestCharts:', error);\n",
              "      }\n",
              "      quickchartButtonEl.classList.remove('colab-df-spinner');\n",
              "      quickchartButtonEl.classList.add('colab-df-quickchart-complete');\n",
              "    }\n",
              "    (() => {\n",
              "      let quickchartButtonEl =\n",
              "        document.querySelector('#df-29eec6e0-be44-45f7-a669-824ee13ce9f8 button');\n",
              "      quickchartButtonEl.style.display =\n",
              "        google.colab.kernel.accessAllowed ? 'block' : 'none';\n",
              "    })();\n",
              "  </script>\n",
              "</div>\n",
              "\n",
              "    </div>\n",
              "  </div>\n"
            ],
            "application/vnd.google.colaboratory.intrinsic+json": {
              "type": "dataframe",
              "variable_name": "data"
            }
          },
          "metadata": {},
          "execution_count": 7
        }
      ]
    },
    {
      "cell_type": "code",
      "source": [
        "# Because our only goal with this data is to look at group stage results, we'll remove finals data\n",
        "group_stage_data = data[data['category'].str.contains('Group')]\n",
        "#group_stage_data.head()\n",
        "\n",
        "# Removed about 16 rows of finals data,"
      ],
      "metadata": {
        "id": "ITVp5oz0B9Hh"
      },
      "execution_count": 8,
      "outputs": []
    },
    {
      "cell_type": "code",
      "source": [
        "# Adding another column to the group_stage_data that's true if team1 has more goals and false if team2 has more goals:\n",
        "group_stage_data['team1 won'] = group_stage_data['number of goals team1'] > group_stage_data['number of goals team2']\n",
        "#group_stage_data.head()"
      ],
      "metadata": {
        "id": "z_M--X0sC888",
        "outputId": "8da5e3e6-578c-438a-eb2a-1a18f06f87f5",
        "colab": {
          "base_uri": "https://localhost:8080/"
        }
      },
      "execution_count": 9,
      "outputs": [
        {
          "output_type": "stream",
          "name": "stderr",
          "text": [
            "<ipython-input-9-7b2c7d85b2a1>:2: SettingWithCopyWarning: \n",
            "A value is trying to be set on a copy of a slice from a DataFrame.\n",
            "Try using .loc[row_indexer,col_indexer] = value instead\n",
            "\n",
            "See the caveats in the documentation: https://pandas.pydata.org/pandas-docs/stable/user_guide/indexing.html#returning-a-view-versus-a-copy\n",
            "  group_stage_data['team1 won'] = group_stage_data['number of goals team1'] > group_stage_data['number of goals team2']\n"
          ]
        }
      ]
    },
    {
      "cell_type": "code",
      "source": [
        "# Creating an array more_possesion_wins2 that iterates through group_stage_data and increase by one if possession team1 is greater than possession team2 and team1 won is true:\n",
        "more_possession_wins = 0\n",
        "less_possession_wins = 0\n",
        "for i in range(len(group_stage_data)):\n",
        "  if group_stage_data['possession team1'][i] > group_stage_data['possession team2'][i] and group_stage_data['team1 won'][i] == True:\n",
        "    more_possession_wins += 1\n",
        "  elif group_stage_data['possession team1'][i] < group_stage_data['possession team2'][i] and group_stage_data['team1 won'][i] == True:\n",
        "    less_possession_wins += 1\n",
        "  if group_stage_data['possession team1'][i] < group_stage_data['possession team2'][i] and group_stage_data['team1 won'][i] == False:\n",
        "    more_possession_wins += 1\n",
        "  elif group_stage_data['possession team1'][i] > group_stage_data['possession team2'][i] and group_stage_data['team1 won'][i] == False:\n",
        "    less_possession_wins += 1"
      ],
      "metadata": {
        "id": "z9Vr-5JcDQwp"
      },
      "execution_count": 10,
      "outputs": []
    },
    {
      "cell_type": "code",
      "source": [
        "# Making a bar graph of the more_possessions_wins and more_possessions_losses data:\n",
        "# The x_axis will have labels Wins and Losses, and the data will by on the y_axis:\n",
        "sns.barplot(x=['Wins with more Possessions', 'Wins with less Possessions'], y=[more_possession_wins, less_possession_wins])\n",
        "plt.show()"
      ],
      "metadata": {
        "id": "n5gPaj-4EYKs",
        "outputId": "4804cfd4-e813-427b-fd1c-1590d8b44fc4",
        "colab": {
          "base_uri": "https://localhost:8080/",
          "height": 430
        }
      },
      "execution_count": 11,
      "outputs": [
        {
          "output_type": "display_data",
          "data": {
            "text/plain": [
              "<Figure size 640x480 with 1 Axes>"
            ],
            "image/png": "[encoded data removed]"
          },
          "metadata": {}
        }
      ]
    },
    {
      "cell_type": "markdown",
      "source": [
        "This is interesting, because it seems there isn't a large correlation between have possession of the ball and actually winning a game. This result can be used to inform how we model the finals matches with the other data."
      ],
      "metadata": {
        "id": "uGGfjuEuiNgx"
      }
    },
    {
      "cell_type": "code",
      "source": [
        "##################################################"
      ],
      "metadata": {
        "id": "JdOL7-tYBr-G"
      },
      "execution_count": 12,
      "outputs": []
    },
    {
      "cell_type": "markdown",
      "source": [
        "I'll now do a similar analysis, but with the number of attempted goals per team. It'll be intersting to see if there's a better correlation between this variable and winning a match."
      ],
      "metadata": {
        "id": "jWWqkCVUmt9t"
      }
    },
    {
      "cell_type": "code",
      "source": [
        "more_attempts_wins = 0\n",
        "less_attempts_wins = 0\n",
        "for i in range(len(group_stage_data)):\n",
        "  if group_stage_data['total attempts team1'][i] > group_stage_data['total attempts team2'][i] and group_stage_data['team1 won'][i] == True:\n",
        "    more_attempts_wins += 1\n",
        "  elif group_stage_data['total attempts team1'][i] < group_stage_data['total attempts team2'][i] and group_stage_data['team1 won'][i] == True:\n",
        "    less_attempts_wins += 1\n",
        "  if group_stage_data['total attempts team1'][i] < group_stage_data['total attempts team2'][i] and group_stage_data['team1 won'][i] == False:\n",
        "    more_attempts_wins += 1\n",
        "  elif group_stage_data['total attempts team1'][i] > group_stage_data['total attempts team2'][i] and group_stage_data['team1 won'][i] == False:\n",
        "    less_attempts_wins += 1\n",
        "\n",
        "sns.barplot(x=['Wins with more Attempts', 'Wins with less Attempts'], y=[more_attempts_wins, less_attempts_wins])\n",
        "plt.show()"
      ],
      "metadata": {
        "id": "G2KOy1wInex6",
        "outputId": "b9919430-8623-4029-bae2-47c61b934072",
        "colab": {
          "base_uri": "https://localhost:8080/",
          "height": 430
        }
      },
      "execution_count": 13,
      "outputs": [
        {
          "output_type": "display_data",
          "data": {
            "text/plain": [
              "<Figure size 640x480 with 1 Axes>"
            ],
            "image/png": "[encoded data removed]"
          },
          "metadata": {}
        }
      ]
    },
    {
      "cell_type": "markdown",
      "source": [
        "This data is more conclusive. It shows that teams which make more scoring attempts (even if they miss them) tend to win more frequently than teams making less scoring attempts."
      ],
      "metadata": {
        "id": "6JfQ8rgYpezF"
      }
    },
    {
      "cell_type": "code",
      "source": [
        "##################################################"
      ],
      "metadata": {
        "id": "Ro-Ciuj8mr5s"
      },
      "execution_count": 14,
      "outputs": []
    },
    {
      "cell_type": "code",
      "source": [
        "# world rankings going into the WC\n",
        "rankings = {'BRAZIL' : 1,\n",
        "            'BELGIUM' : 2,\n",
        "            'ARGENTINA' : 3,\n",
        "            'FRANCE' : 4,\n",
        "            'ENGLAND' : 5,\n",
        "            'SPAIN' : 7,\n",
        "            'NETHERLANDS' : 8,\n",
        "            'PORTUGAL' : 9,\n",
        "            'DENMARK' : 10,\n",
        "            'GERMANY' : 11,\n",
        "            'CROATIA' : 12,\n",
        "            'MEXICO' : 13,\n",
        "            'URUGUAY' : 14,\n",
        "            'SWITZERLAND' : 15,\n",
        "            'UNITED STATES' : 16,\n",
        "            'SENEGAL' : 18,\n",
        "            'WALES' : 19,\n",
        "            'IRAN' : 20,\n",
        "            'SERBIA' : 21,\n",
        "            'MOROCCO' : 22,\n",
        "            'JAPAN' : 24,\n",
        "            'POLAND' : 26,\n",
        "            'KOREA REPUBLIC' : 28,\n",
        "            'TUNISIA' : 30,\n",
        "            'COSTA RICA' : 31,\n",
        "            'AUSTRALIA' : 38,\n",
        "            'CANADA' : 41,\n",
        "            'CAMEROON' : 43,\n",
        "            'ECUADOR' : 44,\n",
        "            'QATAR' : 50,\n",
        "            'SAUDI ARABIA' : 51,\n",
        "            'CAMEROON' : 61}"
      ],
      "metadata": {
        "id": "ezkmnrJo49jE"
      },
      "execution_count": null,
      "outputs": []
    }
  ]
}