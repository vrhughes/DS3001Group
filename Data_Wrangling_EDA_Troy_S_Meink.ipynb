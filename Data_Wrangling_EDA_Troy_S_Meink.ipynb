{
  "nbformat": 4,
  "nbformat_minor": 0,
  "metadata": {
    "colab": {
      "provenance": [],
      "authorship_tag": "ABX9TyP4Ou/NFCqO2jrjIgak+fIM",
      "include_colab_link": true
    },
    "kernelspec": {
      "name": "python3",
      "display_name": "Python 3"
    },
    "language_info": {
      "name": "python"
    }
  },
  "cells": [
    {
      "cell_type": "markdown",
      "metadata": {
        "id": "view-in-github",
        "colab_type": "text"
      },
      "source": [
        "<a href=\"https://colab.research.google.com/github/vrhughes/DS3001Group/blob/development/Data_Wrangling_EDA_Troy_S_Meink.ipynb\" target=\"_parent\"><img src=\"https://colab.research.google.com/assets/colab-badge.svg\" alt=\"Open In Colab\"/></a>"
      ]
    },
    {
      "cell_type": "code",
      "execution_count": 3,
      "metadata": {
        "colab": {
          "base_uri": "https://localhost:8080/"
        },
        "id": "mXVi01ae7qHG",
        "outputId": "2b9365f2-71a1-4669-c85e-6c63c382e948"
      },
      "outputs": [
        {
          "output_type": "stream",
          "name": "stdout",
          "text": [
            "Cloning into 'Data'...\n",
            "fatal: repository 'https://github.com/vrhughes/DS3001Group/tree/main/Data/' not found\n"
          ]
        }
      ],
      "source": [
        "! git clone https://github.com/vrhughes/DS3001Group/tree/main/Data"
      ]
    },
    {
      "cell_type": "code",
      "source": [
        "# Importing relavant packages:\n",
        "import numpy as np\n",
        "import matplotlib.pyplot as plt\n",
        "import pandas as pd\n",
        "import seaborn as sns"
      ],
      "metadata": {
        "id": "IJ7S2oGl851N"
      },
      "execution_count": 4,
      "outputs": []
    }
  ]
}