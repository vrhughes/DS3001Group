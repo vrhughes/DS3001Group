{
  "nbformat": 4,
  "nbformat_minor": 0,
  "metadata": {
    "colab": {
      "provenance": [],
      "authorship_tag": "ABX9TyOZMWMLRK5WNkEcZBClDMVx",
      "include_colab_link": true
    },
    "kernelspec": {
      "name": "python3",
      "display_name": "Python 3"
    },
    "language_info": {
      "name": "python"
    }
  },
  "cells": [
    {
      "cell_type": "markdown",
      "metadata": {
        "id": "view-in-github",
        "colab_type": "text"
      },
      "source": [
        "<a href=\"https://colab.research.google.com/github/vrhughes/DS3001Group/blob/development/worldcupdata2.ipynb\" target=\"_parent\"><img src=\"https://colab.research.google.com/assets/colab-badge.svg\" alt=\"Open In Colab\"/></a>"
      ]
    },
    {
      "cell_type": "code",
      "execution_count": null,
      "metadata": {
        "colab": {
          "base_uri": "https://localhost:8080/"
        },
        "id": "1L3P1Vs_ZL4m",
        "outputId": "5c3d7687-267c-46db-aa15-cabe892ad7c7"
      },
      "outputs": [
        {
          "output_type": "stream",
          "name": "stdout",
          "text": [
            "         date home_team     away_team home_team_continent away_team_continent  \\\n",
            "0  1993-08-08   Bolivia       Uruguay       South America       South America   \n",
            "1  1993-08-08    Brazil        Mexico       South America       North America   \n",
            "2  1993-08-08   Ecuador     Venezuela       South America       South America   \n",
            "3  1993-08-08    Guinea  Sierra Leone              Africa              Africa   \n",
            "4  1993-08-08  Paraguay     Argentina       South America       South America   \n",
            "\n",
            "   home_team_fifa_rank  away_team_fifa_rank  home_team_total_fifa_points  \\\n",
            "0                   59                   22                            0   \n",
            "1                    8                   14                            0   \n",
            "2                   35                   94                            0   \n",
            "3                   65                   86                            0   \n",
            "4                   67                    5                            0   \n",
            "\n",
            "   away_team_total_fifa_points  home_team_score  ...  shoot_out  \\\n",
            "0                            0                3  ...         No   \n",
            "1                            0                1  ...         No   \n",
            "2                            0                5  ...         No   \n",
            "3                            0                1  ...         No   \n",
            "4                            0                1  ...         No   \n",
            "\n",
            "  home_team_result home_team_goalkeeper_score away_team_goalkeeper_score  \\\n",
            "0              Win                        NaN                        NaN   \n",
            "1             Draw                        NaN                        NaN   \n",
            "2              Win                        NaN                        NaN   \n",
            "3              Win                        NaN                        NaN   \n",
            "4             Lose                        NaN                        NaN   \n",
            "\n",
            "   home_team_mean_defense_score home_team_mean_offense_score  \\\n",
            "0                           NaN                          NaN   \n",
            "1                           NaN                          NaN   \n",
            "2                           NaN                          NaN   \n",
            "3                           NaN                          NaN   \n",
            "4                           NaN                          NaN   \n",
            "\n",
            "  home_team_mean_midfield_score  away_team_mean_defense_score  \\\n",
            "0                           NaN                           NaN   \n",
            "1                           NaN                           NaN   \n",
            "2                           NaN                           NaN   \n",
            "3                           NaN                           NaN   \n",
            "4                           NaN                           NaN   \n",
            "\n",
            "   away_team_mean_offense_score  away_team_mean_midfield_score  \n",
            "0                           NaN                            NaN  \n",
            "1                           NaN                            NaN  \n",
            "2                           NaN                            NaN  \n",
            "3                           NaN                            NaN  \n",
            "4                           NaN                            NaN  \n",
            "\n",
            "[5 rows x 25 columns]\n"
          ]
        }
      ],
      "source": [
        "import numpy as np # Import the numpy package into your workspace\n",
        "import matplotlib.pyplot as plt # Import matplotlib into your workspace\n",
        "import pandas as pd  # Import the pandas package into your workspace\n",
        "\n",
        "df = pd.read_csv('international_matches 3.csv')\n",
        "\n",
        "print(df.head())\n"
      ]
    },
    {
      "cell_type": "code",
      "source": [
        "# date column is datatime type\n",
        "df['date'] = pd.to_datetime(df['date'])\n",
        "\n",
        "# filter to only have dates past 2020\n",
        "df_cleaned = df[df['date']>='2008-01-01']\n",
        "print(df_cleaned.head())"
      ],
      "metadata": {
        "colab": {
          "base_uri": "https://localhost:8080/"
        },
        "id": "LF1eKWn_cB9K",
        "outputId": "2022f31a-f244-4b66-e012-fe2f3019c782"
      },
      "execution_count": null,
      "outputs": [
        {
          "output_type": "stream",
          "name": "stdout",
          "text": [
            "            date home_team away_team home_team_continent away_team_continent  \\\n",
            "11041 2008-01-02    Kuwait   Lebanon                Asia                Asia   \n",
            "11042 2008-01-05     Egypt   Namibia              Africa              Africa   \n",
            "11043 2008-01-06   Tunisia    Zambia              Africa              Africa   \n",
            "11044 2008-01-08   Tunisia    Zambia              Africa              Africa   \n",
            "11045 2008-01-09   Nigeria     Sudan              Africa              Africa   \n",
            "\n",
            "       home_team_fifa_rank  away_team_fifa_rank  home_team_total_fifa_points  \\\n",
            "11041                  119                  134                            0   \n",
            "11042                   39                  114                            0   \n",
            "11043                   47                   65                            0   \n",
            "11044                   47                   65                            0   \n",
            "11045                   20                   92                            0   \n",
            "\n",
            "       away_team_total_fifa_points  home_team_score  ...  shoot_out  \\\n",
            "11041                            0                3  ...         No   \n",
            "11042                            0                3  ...         No   \n",
            "11043                            0                1  ...         No   \n",
            "11044                            0                1  ...         No   \n",
            "11045                            0                2  ...         No   \n",
            "\n",
            "      home_team_result home_team_goalkeeper_score away_team_goalkeeper_score  \\\n",
            "11041              Win                        NaN                        NaN   \n",
            "11042              Win                       67.0                        NaN   \n",
            "11043             Lose                        NaN                        NaN   \n",
            "11044              Win                        NaN                        NaN   \n",
            "11045              Win                       78.0                        NaN   \n",
            "\n",
            "       home_team_mean_defense_score home_team_mean_offense_score  \\\n",
            "11041                           NaN                          NaN   \n",
            "11042                           NaN                         77.7   \n",
            "11043                          72.8                         70.7   \n",
            "11044                          72.8                         70.7   \n",
            "11045                          77.5                         82.0   \n",
            "\n",
            "      home_team_mean_midfield_score  away_team_mean_defense_score  \\\n",
            "11041                           NaN                           NaN   \n",
            "11042                           NaN                           NaN   \n",
            "11043                          70.2                           NaN   \n",
            "11044                          70.2                           NaN   \n",
            "11045                          79.2                           NaN   \n",
            "\n",
            "       away_team_mean_offense_score  away_team_mean_midfield_score  \n",
            "11041                           NaN                            NaN  \n",
            "11042                           NaN                            NaN  \n",
            "11043                          72.3                            NaN  \n",
            "11044                          72.3                            NaN  \n",
            "11045                           NaN                            NaN  \n",
            "\n",
            "[5 rows x 25 columns]\n"
          ]
        }
      ]
    },
    {
      "cell_type": "code",
      "source": [
        "#create playing_teams list with only the teams playing in the world cup\n",
        "playing_team = ['Qatar', 'Ecuador', 'Senegal', 'Netherlands', 'England',\n",
        "                 'Iran', 'IR Iran', 'United States', 'Wales', 'Argentina', 'Saudi Arabia',\n",
        "                 'Mexico', 'Poland', 'France', 'Australia', 'Denmark', 'Tunisia',\n",
        "                 'Spain', 'Costa Rica', 'Germany', 'Japan', 'Belgium', 'Canada',\n",
        "                 'Morocco', 'Croatia', 'Brazil', 'Serbia', 'Switzerland', 'Cameroon',\n",
        "                 'Portugal', 'Ghana', 'Uruguay', 'South Korea', 'Korea Republic']\n",
        "\n",
        "# both the home_team and away_team are in playing_team list\n",
        "df_cleaned = df_cleaned[(df_cleaned['home_team'].isin(playing_team)) & (df_cleaned['away_team'].isin(playing_team))]\n",
        "\n",
        "\n",
        "print(df_cleaned.head())"
      ],
      "metadata": {
        "colab": {
          "base_uri": "https://localhost:8080/"
        },
        "id": "URJlbZNUmOtS",
        "outputId": "6f8a3b02-f030-44fb-a43f-192a38684f3a"
      },
      "execution_count": null,
      "outputs": [
        {
          "output_type": "stream",
          "name": "stdout",
          "text": [
            "            date home_team   away_team home_team_continent  \\\n",
            "11047 2008-01-10     Qatar     IR Iran                Asia   \n",
            "11076 2008-01-23   Tunisia     Senegal              Africa   \n",
            "11093 2008-01-28     Ghana     Morocco              Africa   \n",
            "11102 2008-01-30   IR Iran  Costa Rica                Asia   \n",
            "11121 2008-02-04   Tunisia    Cameroon              Africa   \n",
            "\n",
            "      away_team_continent  home_team_fifa_rank  away_team_fifa_rank  \\\n",
            "11047                Asia                   87                   41   \n",
            "11076              Africa                   46                   40   \n",
            "11093              Africa                   43                   39   \n",
            "11102       North America                   41                   69   \n",
            "11121              Africa                   46                   25   \n",
            "\n",
            "       home_team_total_fifa_points  away_team_total_fifa_points  \\\n",
            "11047                            0                            0   \n",
            "11076                            0                            0   \n",
            "11093                            0                            0   \n",
            "11102                            0                            0   \n",
            "11121                            0                            0   \n",
            "\n",
            "       home_team_score  ...  shoot_out home_team_result  \\\n",
            "11047                0  ...         No             Draw   \n",
            "11076                2  ...         No             Draw   \n",
            "11093                2  ...         No              Win   \n",
            "11102                0  ...         No             Draw   \n",
            "11121                2  ...         No             Lose   \n",
            "\n",
            "      home_team_goalkeeper_score away_team_goalkeeper_score  \\\n",
            "11047                        NaN                        NaN   \n",
            "11076                        NaN                       63.0   \n",
            "11093                       66.0                       75.0   \n",
            "11102                        NaN                        NaN   \n",
            "11121                        NaN                       79.0   \n",
            "\n",
            "       home_team_mean_defense_score home_team_mean_offense_score  \\\n",
            "11047                           NaN                          NaN   \n",
            "11076                          72.8                         70.7   \n",
            "11093                          76.2                         74.7   \n",
            "11102                           NaN                          NaN   \n",
            "11121                          72.8                         70.7   \n",
            "\n",
            "      home_team_mean_midfield_score  away_team_mean_defense_score  \\\n",
            "11047                           NaN                           NaN   \n",
            "11076                          70.2                          76.8   \n",
            "11093                          80.8                          74.2   \n",
            "11102                           NaN                          66.0   \n",
            "11121                          70.2                          76.5   \n",
            "\n",
            "       away_team_mean_offense_score  away_team_mean_midfield_score  \n",
            "11047                           NaN                            NaN  \n",
            "11076                          81.3                           74.8  \n",
            "11093                          77.3                           71.5  \n",
            "11102                          72.0                           60.8  \n",
            "11121                          80.7                           77.0  \n",
            "\n",
            "[5 rows x 25 columns]\n"
          ]
        }
      ]
    },
    {
      "cell_type": "code",
      "source": [
        "# delete the columns in the data frame\n",
        "df_cleaned.drop(columns=['home_team_continent', 'away_team_continent', 'tournament', 'city', 'country'], inplace=True)\n",
        "print(df_cleaned.head())"
      ],
      "metadata": {
        "colab": {
          "base_uri": "https://localhost:8080/"
        },
        "id": "4ERs_OJjoN2x",
        "outputId": "a4ab6359-4605-43ef-8f4a-0c1a7d77087d"
      },
      "execution_count": null,
      "outputs": [
        {
          "output_type": "stream",
          "name": "stdout",
          "text": [
            "            date home_team   away_team  home_team_fifa_rank  \\\n",
            "11047 2008-01-10     Qatar     IR Iran                   87   \n",
            "11076 2008-01-23   Tunisia     Senegal                   46   \n",
            "11093 2008-01-28     Ghana     Morocco                   43   \n",
            "11102 2008-01-30   IR Iran  Costa Rica                   41   \n",
            "11121 2008-02-04   Tunisia    Cameroon                   46   \n",
            "\n",
            "       away_team_fifa_rank  home_team_total_fifa_points  \\\n",
            "11047                   41                            0   \n",
            "11076                   40                            0   \n",
            "11093                   39                            0   \n",
            "11102                   69                            0   \n",
            "11121                   25                            0   \n",
            "\n",
            "       away_team_total_fifa_points  home_team_score  away_team_score  \\\n",
            "11047                            0                0                0   \n",
            "11076                            0                2                2   \n",
            "11093                            0                2                0   \n",
            "11102                            0                0                0   \n",
            "11121                            0                2                3   \n",
            "\n",
            "       neutral_location shoot_out home_team_result  \\\n",
            "11047             False        No             Draw   \n",
            "11076              True        No             Draw   \n",
            "11093             False        No              Win   \n",
            "11102             False        No             Draw   \n",
            "11121              True        No             Lose   \n",
            "\n",
            "       home_team_goalkeeper_score  away_team_goalkeeper_score  \\\n",
            "11047                         NaN                         NaN   \n",
            "11076                         NaN                        63.0   \n",
            "11093                        66.0                        75.0   \n",
            "11102                         NaN                         NaN   \n",
            "11121                         NaN                        79.0   \n",
            "\n",
            "       home_team_mean_defense_score  home_team_mean_offense_score  \\\n",
            "11047                           NaN                           NaN   \n",
            "11076                          72.8                          70.7   \n",
            "11093                          76.2                          74.7   \n",
            "11102                           NaN                           NaN   \n",
            "11121                          72.8                          70.7   \n",
            "\n",
            "       home_team_mean_midfield_score  away_team_mean_defense_score  \\\n",
            "11047                            NaN                           NaN   \n",
            "11076                           70.2                          76.8   \n",
            "11093                           80.8                          74.2   \n",
            "11102                            NaN                          66.0   \n",
            "11121                           70.2                          76.5   \n",
            "\n",
            "       away_team_mean_offense_score  away_team_mean_midfield_score  \n",
            "11047                           NaN                            NaN  \n",
            "11076                          81.3                           74.8  \n",
            "11093                          77.3                           71.5  \n",
            "11102                          72.0                           60.8  \n",
            "11121                          80.7                           77.0  \n"
          ]
        }
      ]
    },
    {
      "cell_type": "code",
      "source": [],
      "metadata": {
        "id": "bNsZrQohovY3"
      },
      "execution_count": null,
      "outputs": []
    }
  ]
}